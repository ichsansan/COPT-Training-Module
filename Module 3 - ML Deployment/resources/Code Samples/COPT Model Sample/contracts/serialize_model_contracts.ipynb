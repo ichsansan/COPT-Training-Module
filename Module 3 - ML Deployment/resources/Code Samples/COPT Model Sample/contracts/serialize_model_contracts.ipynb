{
 "cells": [
  {
   "cell_type": "code",
   "execution_count": 1,
   "metadata": {},
   "outputs": [
    {
     "name": "stderr",
     "output_type": "stream",
     "text": [
      "2023-09-08 15:29:26.797101: W tensorflow/stream_executor/platform/default/dso_loader.cc:59] Could not load dynamic library 'libcudart.so.10.1'; dlerror: libcudart.so.10.1: cannot open shared object file: No such file or directory; LD_LIBRARY_PATH: /usr/local/cuda/lib64:/usr/local/cuda-11.2/lib64:\n",
      "2023-09-08 15:29:26.797119: I tensorflow/stream_executor/cuda/cudart_stub.cc:29] Ignore above cudart dlerror if you do not have a GPU set up on your machine.\n"
     ]
    }
   ],
   "source": [
    "import os\n",
    "import sys\n",
    "import uuid\n",
    "\n",
    "import sys\n",
    "\n",
    "if \"..\" not in sys.path:\n",
    "    sys.path.append(\"..\")\n",
    "\n",
    "from tag_contract_factory import TagContractFactory, ModelTagAssociationKind\n",
    "\n",
    "import model_contract_declaration as mcd\n",
    "import contracts_configurations.model.PCT1.model_contract_actions as pct1\n",
    "import contracts_configurations.model.PCT2.model_contract_actions as pct2\n",
    "import contracts_configurations.model.RBG1.model_contract_actions as rbg1\n",
    "import contracts_configurations.model.RBG2.model_contract_actions as rbg2\n",
    "import contracts_configurations.model.KTT1.model_contract_actions as ktt1\n",
    "import contracts_configurations.model.KTT2.model_contract_actions as ktt2\n",
    "import contracts_configurations.model.AMG1.model_contract_actions as amg1\n",
    "import contracts_configurations.model.AMG2.model_contract_actions as amg2\n",
    "import contracts_configurations.model.BLT1.model_contract_actions as blt1\n",
    "import contracts_configurations.model.BLT2.model_contract_actions as blt2\n",
    "import contracts_configurations.model.PTN9.model_contract_actions as ptn9\n",
    "import contracts_configurations.model.BLK1.model_contract_actions as blk1\n",
    "import contracts_configurations.model.BLK2.model_contract_actions as blk2\n",
    "\n",
    "\n",
    "import config\n",
    "\n",
    "from file_manager_helper import save_model_tag_contract"
   ]
  },
  {
   "cell_type": "code",
   "execution_count": 2,
   "metadata": {},
   "outputs": [],
   "source": [
    "# Initialize factory\n",
    "\n",
    "tag_contract_factory = TagContractFactory(\n",
    "    alias=config.PROJECT_NAME,\n",
    "    tag_to_association_kind=mcd.TAG_TO_ASSOCIATION_KIND,\n",
    "        tag_actions=mcd.TAG_ACTIONS,\n",
    "        tag_groups=mcd.TAG_GROUPS)"
   ]
  },
  {
   "cell_type": "code",
   "execution_count": 3,
   "metadata": {},
   "outputs": [],
   "source": [
    "# Serializing PCT1 contract\n",
    "\n",
    "tag_mapper_pct1 = tag_contract_factory.initialize_contract(\n",
    "        alias=config.PCT1_DATA_TAG,\n",
    "        tags_associations=pct1.TAG_ASSOCIATIONS,\n",
    "        tags_to_actions=pct1.TAGS_TO_ACTIONS,\n",
    "        tag_groups_map=pct1.TAG_GROUP_MAP)\n",
    " \n",
    "save_model_tag_contract(\n",
    "    directory=os.path.join('..', config.ZIP_MODEL_CONTRACTS_DIRECTORY, config.PCT1_DATA_TAG),\n",
    "    contract=tag_mapper_pct1)"
   ]
  },
  {
   "cell_type": "code",
   "execution_count": 4,
   "metadata": {},
   "outputs": [],
   "source": [
    "# Serializing PCT2 contract\n",
    "\n",
    "tag_mapper_pct2 = tag_contract_factory.initialize_contract(\n",
    "        alias=config.PCT2_DATA_TAG,\n",
    "        tags_associations=pct2.TAG_ASSOCIATIONS,\n",
    "        tags_to_actions=pct2.TAGS_TO_ACTIONS,\n",
    "        tag_groups_map=pct2.TAG_GROUP_MAP)\n",
    " \n",
    "save_model_tag_contract(\n",
    "    directory=os.path.join('..', config.ZIP_MODEL_CONTRACTS_DIRECTORY, config.PCT2_DATA_TAG),\n",
    "    contract=tag_mapper_pct2)"
   ]
  },
  {
   "cell_type": "code",
   "execution_count": 3,
   "metadata": {},
   "outputs": [],
   "source": [
    "# Serializing RBG1 contract\n",
    "\n",
    "tag_mapper_rbg1 = tag_contract_factory.initialize_contract(\n",
    "        alias=config.RBG1_DATA_TAG,\n",
    "        tags_associations=rbg1.TAG_ASSOCIATIONS,\n",
    "        tags_to_actions=rbg1.TAGS_TO_ACTIONS,\n",
    "        tag_groups_map=rbg1.TAG_GROUP_MAP)\n",
    " \n",
    "save_model_tag_contract(\n",
    "    directory=os.path.join('..', config.ZIP_MODEL_CONTRACTS_DIRECTORY, config.RBG1_DATA_TAG),\n",
    "    contract=tag_mapper_rbg1)"
   ]
  },
  {
   "cell_type": "code",
   "execution_count": 3,
   "metadata": {},
   "outputs": [],
   "source": [
    "# Serializing RBG2 contract\n",
    "\n",
    "tag_mapper_rbg2 = tag_contract_factory.initialize_contract(\n",
    "        alias=config.RBG2_DATA_TAG,\n",
    "        tags_associations=rbg2.TAG_ASSOCIATIONS,\n",
    "        tags_to_actions=rbg2.TAGS_TO_ACTIONS,\n",
    "        tag_groups_map=rbg2.TAG_GROUP_MAP)\n",
    " \n",
    "save_model_tag_contract(\n",
    "    directory=os.path.join('..', config.ZIP_MODEL_CONTRACTS_DIRECTORY, config.RBG2_DATA_TAG),\n",
    "    contract=tag_mapper_rbg2)"
   ]
  },
  {
   "cell_type": "code",
   "execution_count": 3,
   "metadata": {},
   "outputs": [],
   "source": [
    "# Serializing KTT1 contract\n",
    "\n",
    "tag_mapper_ktt1 = tag_contract_factory.initialize_contract(\n",
    "        alias=config.KTT1_DATA_TAG,\n",
    "        tags_associations=ktt1.TAG_ASSOCIATIONS,\n",
    "        tags_to_actions=ktt1.TAGS_TO_ACTIONS,\n",
    "        tag_groups_map=ktt1.TAG_GROUP_MAP)\n",
    " \n",
    "save_model_tag_contract(\n",
    "    directory=os.path.join('..', config.ZIP_MODEL_CONTRACTS_DIRECTORY, config.KTT1_DATA_TAG),\n",
    "    contract=tag_mapper_ktt1)"
   ]
  },
  {
   "cell_type": "code",
   "execution_count": 3,
   "metadata": {},
   "outputs": [],
   "source": [
    "# Serializing KTT2 contract\n",
    "\n",
    "tag_mapper_ktt2 = tag_contract_factory.initialize_contract(\n",
    "        alias=config.KTT2_DATA_TAG,\n",
    "        tags_associations=ktt2.TAG_ASSOCIATIONS,\n",
    "        tags_to_actions=ktt2.TAGS_TO_ACTIONS,\n",
    "        tag_groups_map=ktt2.TAG_GROUP_MAP)\n",
    " \n",
    "save_model_tag_contract(\n",
    "    directory=os.path.join('..', config.ZIP_MODEL_CONTRACTS_DIRECTORY, config.KTT2_DATA_TAG),\n",
    "    contract=tag_mapper_ktt2)"
   ]
  },
  {
   "cell_type": "code",
   "execution_count": 3,
   "metadata": {},
   "outputs": [],
   "source": [
    "# Serializing AMG1 contract\n",
    "\n",
    "tag_mapper_amg1 = tag_contract_factory.initialize_contract(\n",
    "        alias=config.AMG1_DATA_TAG,\n",
    "        tags_associations=amg1.TAG_ASSOCIATIONS,\n",
    "        tags_to_actions=amg1.TAGS_TO_ACTIONS,\n",
    "        tag_groups_map=amg1.TAG_GROUP_MAP)\n",
    " \n",
    "save_model_tag_contract(\n",
    "    directory=os.path.join('..', config.ZIP_MODEL_CONTRACTS_DIRECTORY, config.AMG1_DATA_TAG),\n",
    "    contract=tag_mapper_amg1)"
   ]
  },
  {
   "cell_type": "code",
   "execution_count": 3,
   "metadata": {},
   "outputs": [],
   "source": [
    "# Serializing AMG2 contract\n",
    "\n",
    "tag_mapper_amg2 = tag_contract_factory.initialize_contract(\n",
    "        alias=config.AMG2_DATA_TAG,\n",
    "        tags_associations=amg2.TAG_ASSOCIATIONS,\n",
    "        tags_to_actions=amg2.TAGS_TO_ACTIONS,\n",
    "        tag_groups_map=amg2.TAG_GROUP_MAP)\n",
    " \n",
    "save_model_tag_contract(\n",
    "    directory=os.path.join('..', config.ZIP_MODEL_CONTRACTS_DIRECTORY, config.AMG2_DATA_TAG),\n",
    "    contract=tag_mapper_amg2)"
   ]
  },
  {
   "cell_type": "code",
   "execution_count": 3,
   "metadata": {},
   "outputs": [],
   "source": [
    "# Serializing BLT1 contract\n",
    "\n",
    "tag_mapper_blt1 = tag_contract_factory.initialize_contract(\n",
    "        alias=config.BLT1_DATA_TAG,\n",
    "        tags_associations=blt1.TAG_ASSOCIATIONS,\n",
    "        tags_to_actions=blt1.TAGS_TO_ACTIONS,\n",
    "        tag_groups_map=blt1.TAG_GROUP_MAP)\n",
    " \n",
    "save_model_tag_contract(\n",
    "    directory=os.path.join('..', config.ZIP_MODEL_CONTRACTS_DIRECTORY, config.BLT1_DATA_TAG),\n",
    "    contract=tag_mapper_blt1)"
   ]
  },
  {
   "cell_type": "code",
   "execution_count": 4,
   "metadata": {},
   "outputs": [],
   "source": [
    "# Serializing BLT2 contract\n",
    "\n",
    "tag_mapper_blt2 = tag_contract_factory.initialize_contract(\n",
    "        alias=config.BLT2_DATA_TAG,\n",
    "        tags_associations=blt2.TAG_ASSOCIATIONS,\n",
    "        tags_to_actions=blt2.TAGS_TO_ACTIONS,\n",
    "        tag_groups_map=blt2.TAG_GROUP_MAP)\n",
    " \n",
    "save_model_tag_contract(\n",
    "    directory=os.path.join('..', config.ZIP_MODEL_CONTRACTS_DIRECTORY, config.BLT2_DATA_TAG),\n",
    "    contract=tag_mapper_blt2)"
   ]
  },
  {
   "cell_type": "code",
   "execution_count": 4,
   "metadata": {},
   "outputs": [],
   "source": [
    "# Serializing PTN9 contract\n",
    "\n",
    "tag_mapper_ptn9 = tag_contract_factory.initialize_contract(\n",
    "        alias=config.PTN9_DATA_TAG,\n",
    "        tags_associations=ptn9.TAG_ASSOCIATIONS,\n",
    "        tags_to_actions=ptn9.TAGS_TO_ACTIONS,\n",
    "        tag_groups_map=ptn9.TAG_GROUP_MAP)\n",
    " \n",
    "save_model_tag_contract(\n",
    "    directory=os.path.join('..', config.ZIP_MODEL_CONTRACTS_DIRECTORY, config.PTN9_DATA_TAG),\n",
    "    contract=tag_mapper_ptn9)"
   ]
  },
  {
   "cell_type": "code",
   "execution_count": 5,
   "metadata": {},
   "outputs": [],
   "source": [
    "# Serializing BLK1 contract\n",
    "\n",
    "tag_mapper_blk1 = tag_contract_factory.initialize_contract(\n",
    "        alias=config.BLK1_DATA_TAG,\n",
    "        tags_associations=blk1.TAG_ASSOCIATIONS,\n",
    "        tags_to_actions=blk1.TAGS_TO_ACTIONS,\n",
    "        tag_groups_map=blk1.TAG_GROUP_MAP)\n",
    " \n",
    "save_model_tag_contract(\n",
    "    directory=os.path.join('..', config.ZIP_MODEL_CONTRACTS_DIRECTORY, config.BLK1_DATA_TAG),\n",
    "    contract=tag_mapper_blk1)"
   ]
  },
  {
   "cell_type": "code",
   "execution_count": 6,
   "metadata": {},
   "outputs": [],
   "source": [
    "# Serializing BLK2 contract\n",
    "\n",
    "tag_mapper_blk2 = tag_contract_factory.initialize_contract(\n",
    "        alias=config.BLK2_DATA_TAG,\n",
    "        tags_associations=blk2.TAG_ASSOCIATIONS,\n",
    "        tags_to_actions=blk2.TAGS_TO_ACTIONS,\n",
    "        tag_groups_map=blk2.TAG_GROUP_MAP)\n",
    " \n",
    "save_model_tag_contract(\n",
    "    directory=os.path.join('..', config.ZIP_MODEL_CONTRACTS_DIRECTORY, config.BLK2_DATA_TAG),\n",
    "    contract=tag_mapper_blk2)"
   ]
  },
  {
   "cell_type": "code",
   "execution_count": null,
   "metadata": {},
   "outputs": [],
   "source": []
  }
 ],
 "metadata": {
  "interpreter": {
   "hash": "4de377f790210025ef8cbbad5e9374ccbdf8032e685cdd5cb674ffb2e4d2b0f2"
  },
  "kernelspec": {
   "display_name": "Python 3 (ipykernel)",
   "language": "python",
   "name": "python3"
  },
  "language_info": {
   "codemirror_mode": {
    "name": "ipython",
    "version": 3
   },
   "file_extension": ".py",
   "mimetype": "text/x-python",
   "name": "python",
   "nbconvert_exporter": "python",
   "pygments_lexer": "ipython3",
   "version": "3.8.10"
  }
 },
 "nbformat": 4,
 "nbformat_minor": 4
}
