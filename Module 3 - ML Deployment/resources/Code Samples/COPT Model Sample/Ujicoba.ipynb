{
 "cells": [
  {
   "cell_type": "code",
   "execution_count": 1,
   "metadata": {},
   "outputs": [
    {
     "name": "stderr",
     "output_type": "stream",
     "text": [
      "Using TensorFlow backend.\n"
     ]
    }
   ],
   "source": [
    "from prediction import MainFlow, Prediction\n",
    "from prediction import *\n",
    "import time, config, logging, warnings\n",
    "\n",
    "warnings.filterwarnings('ignore')\n",
    "log = logging.getLogger('werkzeug')\n",
    "log.setLevel(logging.ERROR)"
   ]
  },
  {
   "cell_type": "code",
   "execution_count": 5,
   "metadata": {},
   "outputs": [
    {
     "name": "stdout",
     "output_type": "stream",
     "text": [
      "[2023-11-30 11:44:03] - There are CV(s) (['Efficiency Nominal']) outside the optimal range and thus we will generate MV recommendations.\n",
      "                        Excess Oxygen not forecasted to go in correct direction with one or both variables with following recommendation. \n",
      "                        The solution optimizes based on efficiency which could increase by 0.6731223266601489 . \n",
      "                        The estimated change is for the next 7 minutes.\n",
      "================ Recommendations ================\n",
      "   Excess Oxygen Sensor\n",
      "0              6.732199\n"
     ]
    }
   ],
   "source": [
    "unit = 'BLK2'\n",
    "debug_mode = True \n",
    "fetch_realtime = True\n",
    "mainflow = MainFlow(unit, debug_mode=debug_mode, fetch_realtime=fetch_realtime)\n",
    "mainflow.load_saved_data()\n",
    "mainflow.read_realtime_data(n_minutes=config.HORIZON_STEP)\n",
    "mainflow.pre_calculation()\n",
    "message, curr_efficiency = mainflow.predict_inverse_mapping()\n",
    "if mainflow.mv_recomendations_df is not None:\n",
    "    mv_bias = mainflow.mv_recomendations_df.copy()\n",
    "mainflow.post_calculation()\n",
    "# mainflow.save_to_db()\n",
    "\n",
    "\n",
    "if mainflow.mv_recomendations_df is not None:\n",
    "    print('================ Recommendations ================')\n",
    "    print(mainflow.mv_recomendations_df) "
   ]
  }
 ],
 "metadata": {
  "kernelspec": {
   "display_name": "Python 3.7.6 64-bit",
   "language": "python",
   "name": "python3"
  },
  "language_info": {
   "codemirror_mode": {
    "name": "ipython",
    "version": 3
   },
   "file_extension": ".py",
   "mimetype": "text/x-python",
   "name": "python",
   "nbconvert_exporter": "python",
   "pygments_lexer": "ipython3",
   "version": "3.7.6"
  },
  "orig_nbformat": 4,
  "vscode": {
   "interpreter": {
    "hash": "950e4e1c90f132b9c788fee7795c396b9b805a3eeaba3e4c2bc60b81d609d443"
   }
  }
 },
 "nbformat": 4,
 "nbformat_minor": 2
}
