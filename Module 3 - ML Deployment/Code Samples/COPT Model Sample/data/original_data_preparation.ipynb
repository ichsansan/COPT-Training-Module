{
 "cells": [
  {
   "cell_type": "code",
   "execution_count": 2,
   "metadata": {},
   "outputs": [],
   "source": [
    "import pandas as pd\n",
    "import numpy as np\n",
    "import sys\n",
    "import os\n",
    "\n",
    "from typing import Dict, Any, Optional\n",
    "\n",
    "\n",
    "if \"..\" not in sys.path:\n",
    "    sys.path.append(\"..\")\n",
    "if \"../contracts\" not in sys.path:\n",
    "    sys.path.append(\"../contracts\")\n",
    "\n",
    "from file_manager_helper import load_dataset_tag_contract, save_pandas_dataset\n",
    "from reducers.dataset_contract_reducers import convert_dataset, modelling_filter\n",
    "import matplotlib.pyplot as plt\n",
    "import config\n",
    "\n",
    "DATE_FORMAT: str = '%Y-%m-%d %H:%M:%S'\n",
    "OUTPUT_DIR: str = \"prepared_datasets/datasets\"\n",
    "OUTPUT_DIR_SANITY_CHECK: str = \"sanity_checking_data\"\n",
    "OUTPUT_DIR_SAMPLE: str = \"prepared_datasets/sampletest\"\n",
    "    \n",
    "def save_sanity_checking_dataset(\n",
    "    dataset: pd.DataFrame,\n",
    "    dataset_tag: str,\n",
    "    suffix: str):\n",
    "    \n",
    "    dataset.to_csv(os.path.join(OUTPUT_DIR_SANITY_CHECK, dataset_tag, f'{dataset_tag}_for_sanity_checking_{suffix}.csv'))\n",
    "\n",
    "def save_test_system_dataset(\n",
    "    dataset: pd.DataFrame,\n",
    "    dataset_tag: str,\n",
    "    output_dataset_name: str):\n",
    "\n",
    "    # Save data for testing the system\n",
    "    real_time_sample = dataset.tail(20000)\n",
    "    real_time_sample.index.rename(\"timestamp\", inplace=True)\n",
    "    real_time_sample.to_csv(os.path.join(OUTPUT_DIR_SAMPLE, dataset_tag, f\"BAT_realtime_dataset_{output_dataset_name}.csv\"))\n",
    "\n",
    "def convert_and_save_dataset(\n",
    "    dataset: pd.DataFrame,\n",
    "    dataset_tag: str,\n",
    "    output_dataset_name: str,\n",
    "    output_dataset_name_suffix: str,\n",
    "    model_converters: Optional[Dict[str, Any]] = None,\n",
    "    model_converters_association_tags: Optional[Dict[str, Any]] = None,\n",
    "    act_on_na: bool = True):\n",
    "\n",
    "    # Loading the dataset contract\n",
    "    contract = load_dataset_tag_contract(\n",
    "        contract_alias=dataset_tag,\n",
    "         directory=os.path.join(\"..\", config.ZIP_DATASET_CONTRACTS_DIRECTORY, dataset_tag))\n",
    "\n",
    "    # Convert the dataset\n",
    "    converted_dataset, dataset = convert_dataset(\n",
    "        contract=contract,\n",
    "        dataset=dataset,\n",
    "        model_converters=model_converters,\n",
    "        model_converters_association_tags=model_converters_association_tags,\n",
    "        act_on_na=act_on_na)\n",
    "    \n",
    "    #Filter based on conditions of boiler being active\n",
    "    converted_dataset = modelling_filter(\n",
    "                           contract=contract,\n",
    "                           dataset=converted_dataset)\n",
    "\n",
    "    # Plotting the efficiency\n",
    "    if \"Efficiency Nominal\" in set(converted_dataset.columns):\n",
    "        efficiency_values = converted_dataset[\"Efficiency Nominal\"].values\n",
    "\n",
    "        plt.plot(range(len(efficiency_values)), efficiency_values)\n",
    "        plt.show()\n",
    "        \n",
    "    converted_dataset.index.names=[\"date_rec\"]\n",
    "    # Prepare the converted dataset for saving\n",
    "    dataset = pd.melt(converted_dataset.reset_index(), id_vars='date_rec', value_vars=converted_dataset.columns, var_name='address_no', value_name='value')\n",
    "    #dataset.rename(columns={'index': 'date_rec'}, inplace=True)\n",
    "    # Make sure that the date is in the correct format by converting it.\n",
    "    dataset['date_rec'] = dataset['date_rec'].dt.strftime(DATE_FORMAT)\n",
    "    # Remove empty values from the dataset\n",
    "    dataset['value'].replace('', np.nan, inplace=True)\n",
    "    dataset.dropna(subset=['value'], inplace=True)\n",
    "    \n",
    "    \n",
    "    # Save data for training the models\n",
    "    save_pandas_dataset(dataset=dataset,\n",
    "                        dataset_tag=output_dataset_name,\n",
    "                        dataset_suffix=output_dataset_name_suffix,\n",
    "                        directory=os.path.join(OUTPUT_DIR, dataset_tag)\n",
    "    )\n",
    "    \n",
    "def concatenate_daily(dir_path: str):\n",
    "    dataset_to_concat = []\n",
    "    \n",
    "    for dir in os.listdir(dir_path):\n",
    "        daily_df = pd.read_csv(os.path.join(dir_path,dir))\n",
    "        # Appending dataframes to concatenate\n",
    "        dataset_to_concat.append(daily_df)\n",
    "    total_df = pd.concat(dataset_to_concat)\n",
    "    return total_df"
   ]
  },
  {
   "cell_type": "markdown",
   "metadata": {},
   "source": [
    "# PCT 1"
   ]
  },
  {
   "cell_type": "code",
   "execution_count": null,
   "metadata": {},
   "outputs": [],
   "source": [
    "#with open('original_format/efficiency_modelling/PCT1/pct_1_efficiency_model.pickle', 'rb') as handle:\n",
    "#    pct_1_efficiency_calculator = pickle.load(handle)"
   ]
  },
  {
   "cell_type": "code",
   "execution_count": null,
   "metadata": {
    "tags": []
   },
   "outputs": [],
   "source": [
    "dataset_1 = pd.read_csv(\"provided_data/datasets/PCT1/PCT1.csv\", parse_dates= [\"timestamp\"])\n",
    "dataset_1.rename(columns={\"timestamp\":\"date_rec\"}, inplace=True)\n",
    "\n",
    "sensor_df = dataset_1.set_index(\"date_rec\")\n",
    "# Drop NAs only if for a row there are only NANs\n",
    "sensor_df = sensor_df.dropna(how=\"all\")\n",
    "sensor_df = sensor_df[~sensor_df.index.duplicated(keep='first')]\n",
    "\n",
    "save_sanity_checking_dataset(\n",
    "    dataset=sensor_df,\n",
    "    dataset_tag=config.PCT1_DATA_TAG,\n",
    "    suffix=1)\n",
    "\n",
    "save_test_system_dataset(\n",
    "    dataset=sensor_df,\n",
    "    dataset_tag=config.PCT1_DATA_TAG,\n",
    "    output_dataset_name=\"pct1\")\n",
    "\n",
    "convert_and_save_dataset(\n",
    "    dataset=sensor_df,\n",
    "    dataset_tag=config.PCT1_DATA_TAG,\n",
    "    output_dataset_name=config.PCT1_DATA_TAG,\n",
    "    output_dataset_name_suffix=\"1\",\n",
    "    act_on_na=True)"
   ]
  },
  {
   "cell_type": "code",
   "execution_count": null,
   "metadata": {},
   "outputs": [],
   "source": [
    "dataset_1 = pd.read_csv(\"provided_data/datasets/PCT1/PCT1_updt.csv\", parse_dates= [\"timestamp\"])\n",
    "dataset_1.rename(columns={\"timestamp\":\"date_rec\"}, inplace=True)\n",
    "\n",
    "sensor_df = dataset_1.set_index(\"date_rec\")\n",
    "# Drop NAs only if for a row there are only NANs\n",
    "sensor_df = sensor_df.dropna(how=\"all\")\n",
    "sensor_df = sensor_df[~sensor_df.index.duplicated(keep='first')]\n",
    "\n",
    "save_sanity_checking_dataset(\n",
    "    dataset=sensor_df,\n",
    "    dataset_tag=config.PCT1_DATA_TAG,\n",
    "    suffix=1)\n",
    "\n",
    "save_test_system_dataset(\n",
    "    dataset=sensor_df,\n",
    "    dataset_tag=config.PCT1_DATA_TAG,\n",
    "    output_dataset_name=\"pct1\")\n",
    "\n",
    "convert_and_save_dataset(\n",
    "    dataset=sensor_df,\n",
    "    dataset_tag=config.PCT1_DATA_TAG,\n",
    "    output_dataset_name=config.PCT1_DATA_TAG,\n",
    "    output_dataset_name_suffix=\"2\",\n",
    "    act_on_na=True)"
   ]
  },
  {
   "cell_type": "markdown",
   "metadata": {},
   "source": [
    "# PCT1 post-overhaul"
   ]
  },
  {
   "cell_type": "code",
   "execution_count": null,
   "metadata": {},
   "outputs": [],
   "source": [
    "dataset_1 = pd.read_csv(\"provided_data/datasets/PCT1/PCT1_update_2023.csv\", parse_dates= [\"ts\"])\n",
    "dataset_1.rename(columns={\"ts\":\"date_rec\"}, inplace=True)\n",
    "\n",
    "sensor_df = dataset_1.set_index(\"date_rec\")\n",
    "# Drop NAs only if for a row there are only NANs\n",
    "sensor_df = sensor_df.dropna(how=\"all\")\n",
    "sensor_df = sensor_df[~sensor_df.index.duplicated(keep='first')]\n",
    "\n",
    "save_sanity_checking_dataset(\n",
    "    dataset=sensor_df,\n",
    "    dataset_tag=config.PCT1_DATA_TAG,\n",
    "    suffix=2)\n",
    "\n",
    "save_test_system_dataset(\n",
    "    dataset=sensor_df,\n",
    "    dataset_tag=config.PCT1_DATA_TAG,\n",
    "    output_dataset_name=\"pct1\")\n",
    "\n",
    "convert_and_save_dataset(\n",
    "    dataset=sensor_df,\n",
    "    dataset_tag=config.PCT1_DATA_TAG,\n",
    "    output_dataset_name=config.PCT1_DATA_TAG,\n",
    "    output_dataset_name_suffix=\"3\",\n",
    "    act_on_na=True)"
   ]
  },
  {
   "cell_type": "markdown",
   "metadata": {},
   "source": [
    "# PCT1 Combination"
   ]
  },
  {
   "cell_type": "code",
   "execution_count": null,
   "metadata": {},
   "outputs": [],
   "source": [
    "PCT1_2 = pd.read_csv(\"prepared_datasets/datasets/PCT1/dataset_PCT1_2.csv\")\n",
    "PCT1_3 = pd.read_csv(\"prepared_datasets/datasets/PCT1/dataset_PCT1_3.csv\")\n",
    "dataset_23 = pd.concat([PCT1_2, PCT1_3], ignore_index=True)\n",
    "dataset_23.to_csv(\"prepared_datasets//datasets/PCT1/dataset_PCT1_4.csv\")\n",
    "\n",
    "PCT1_2_sanity_check = pd.read_csv(\"sanity_checking_data/PCT1/PCT1_for_sanity_checking_1.csv\")\n",
    "PCT1_3_sanity_check = pd.read_csv(\"sanity_checking_data/PCT1/PCT1_for_sanity_checking_2.csv\")\n",
    "sanity_check_PCT1 = pd.concat([PCT1_2_sanity_check, PCT1_3_sanity_check], ignore_index=True)\n",
    "sanity_check_PCT1.to_csv(\"sanity_checking_data/PCT1/PCT1_for_sanity_checking_3.csv\")"
   ]
  },
  {
   "cell_type": "markdown",
   "metadata": {},
   "source": [
    "# PCT1"
   ]
  },
  {
   "cell_type": "code",
   "execution_count": null,
   "metadata": {},
   "outputs": [],
   "source": [
    "dataset_1 = pd.read_csv(\"provided_data/datasets/PCT1_update_2023-03-22.csv\", parse_dates= [\"f_date_rec\"])\n",
    "\n",
    "dataset_1.rename(columns={\"f_date_rec\":\"date_rec\"}, inplace=True)\n",
    "\n",
    "sensor_df = dataset_1.set_index(\"date_rec\")\n",
    "# Drop NAs only if for a row there are only NANs\n",
    "sensor_df = sensor_df.dropna(how=\"all\")\n",
    "sensor_df = sensor_df[~sensor_df.index.duplicated(keep='first')]\n",
    "\n",
    "save_sanity_checking_dataset(\n",
    "    dataset=sensor_df,\n",
    "    dataset_tag=config.PCT1_DATA_TAG,\n",
    "    suffix=5)\n",
    "\n",
    "save_test_system_dataset(\n",
    "    dataset=sensor_df,\n",
    "    dataset_tag=config.PCT1_DATA_TAG,\n",
    "    output_dataset_name=\"pct1\")\n",
    "\n",
    "convert_and_save_dataset(\n",
    "    dataset=sensor_df,\n",
    "    dataset_tag=config.PCT1_DATA_TAG,\n",
    "    output_dataset_name=config.PCT1_DATA_TAG,\n",
    "    output_dataset_name_suffix=\"5\",\n",
    "    act_on_na=True)"
   ]
  },
  {
   "cell_type": "markdown",
   "metadata": {},
   "source": [
    "# PCT2 "
   ]
  },
  {
   "cell_type": "code",
   "execution_count": null,
   "metadata": {},
   "outputs": [],
   "source": [
    "dataset_4 = pd.read_csv(\"provided_data/datasets/PCT2.csv\", parse_dates= [\"timestamp\"])\n",
    "dataset_4.rename(columns={\"timestamp\":\"date_rec\"}, inplace=True)\n",
    "\n",
    "sensor_df = dataset_4.set_index(\"date_rec\")\n",
    "# Drop NAs only if for a row there are only NANs\n",
    "sensor_df = sensor_df.dropna(how=\"all\")\n",
    "sensor_df = sensor_df[~sensor_df.index.duplicated(keep='first')]\n",
    "\n",
    "save_sanity_checking_dataset(\n",
    "    dataset=sensor_df,\n",
    "    dataset_tag=config.PCT2_DATA_TAG,\n",
    "    suffix=1)\n",
    "\n",
    "save_test_system_dataset(\n",
    "    dataset=sensor_df,\n",
    "    dataset_tag=config.PCT2_DATA_TAG,\n",
    "    output_dataset_name=\"pct2\")\n",
    "\n",
    "convert_and_save_dataset(\n",
    "    dataset=sensor_df,\n",
    "    dataset_tag=config.PCT2_DATA_TAG,\n",
    "    output_dataset_name=config.PCT2_DATA_TAG,\n",
    "    output_dataset_name_suffix=\"1\",\n",
    "    act_on_na=True)"
   ]
  },
  {
   "cell_type": "code",
   "execution_count": null,
   "metadata": {},
   "outputs": [],
   "source": [
    "dataset_4"
   ]
  },
  {
   "cell_type": "code",
   "execution_count": null,
   "metadata": {},
   "outputs": [],
   "source": [
    "dataset_4 = pd.read_csv(\"provided_data/datasets/PCT2/PCT2_updt.csv\", parse_dates= [\"timestamp\"])\n",
    "dataset_4.rename(columns={\"timestamp\":\"date_rec\"}, inplace=True)\n",
    "\n",
    "sensor_df = dataset_4.set_index(\"date_rec\")\n",
    "# Drop NAs only if for a row there are only NANs\n",
    "sensor_df = sensor_df.dropna(how=\"all\")\n",
    "sensor_df = sensor_df[~sensor_df.index.duplicated(keep='first')]\n",
    "\n",
    "save_sanity_checking_dataset(\n",
    "    dataset=sensor_df,\n",
    "    dataset_tag=config.PCT2_DATA_TAG,\n",
    "    suffix=1)\n",
    "\n",
    "save_test_system_dataset(\n",
    "    dataset=sensor_df,\n",
    "    dataset_tag=config.PCT2_DATA_TAG,\n",
    "    output_dataset_name=\"pct2\")\n",
    "\n",
    "convert_and_save_dataset(\n",
    "    dataset=sensor_df,\n",
    "    dataset_tag=config.PCT2_DATA_TAG,\n",
    "    output_dataset_name=config.PCT2_DATA_TAG,\n",
    "    output_dataset_name_suffix=\"2\",\n",
    "    act_on_na=True)"
   ]
  },
  {
   "cell_type": "markdown",
   "metadata": {},
   "source": [
    "# PCT2 post-overhaul"
   ]
  },
  {
   "cell_type": "code",
   "execution_count": null,
   "metadata": {},
   "outputs": [],
   "source": [
    "dataset_4 = pd.read_csv(\"provided_data/datasets/PCT2/PCT2_updt_2023.csv\", parse_dates= [\"timestamp\"])\n",
    "dataset_4.rename(columns={\"timestamp\":\"date_rec\"}, inplace=True)\n",
    "\n",
    "sensor_df = dataset_4.set_index(\"date_rec\")\n",
    "# Drop NAs only if for a row there are only NANs\n",
    "sensor_df = sensor_df.dropna(how=\"all\")\n",
    "sensor_df = sensor_df[~sensor_df.index.duplicated(keep='first')]\n",
    "\n",
    "save_sanity_checking_dataset(\n",
    "    dataset=sensor_df,\n",
    "    dataset_tag=config.PCT2_DATA_TAG,\n",
    "    suffix=2)\n",
    "\n",
    "save_test_system_dataset(\n",
    "    dataset=sensor_df,\n",
    "    dataset_tag=config.PCT2_DATA_TAG,\n",
    "    output_dataset_name=\"pct2\")\n",
    "\n",
    "convert_and_save_dataset(\n",
    "    dataset=sensor_df,\n",
    "    dataset_tag=config.PCT2_DATA_TAG,\n",
    "    output_dataset_name=config.PCT2_DATA_TAG,\n",
    "    output_dataset_name_suffix=\"3\",\n",
    "    act_on_na=True)"
   ]
  },
  {
   "cell_type": "markdown",
   "metadata": {},
   "source": [
    "# PCT2 Combination"
   ]
  },
  {
   "cell_type": "code",
   "execution_count": null,
   "metadata": {},
   "outputs": [],
   "source": [
    "PCT2_2 = pd.read_csv(\"prepared_datasets/datasets/PCT2/dataset_PCT2_2.csv\")\n",
    "PCT2_3 = pd.read_csv(\"prepared_datasets/datasets/PCT2/dataset_PCT2_3.csv\")\n",
    "dataset_23 = pd.concat([PCT2_2, PCT2_3], ignore_index=True)\n",
    "dataset_23.to_csv(\"prepared_datasets//datasets/PCT2/dataset_PCT2_4.csv\")\n",
    "\n",
    "PCT2_2_sanity_check = pd.read_csv(\"sanity_checking_data/PCT2/PCT2_for_sanity_checking_1.csv\")\n",
    "PCT2_3_sanity_check = pd.read_csv(\"sanity_checking_data/PCT2/PCT2_for_sanity_checking_2.csv\")\n",
    "sanity_check_PCT2 = pd.concat([PCT2_2_sanity_check, PCT2_3_sanity_check], ignore_index=True)\n",
    "sanity_check_PCT2.to_csv(\"sanity_checking_data/PCT2/PCT2_for_sanity_checking_3.csv\")"
   ]
  },
  {
   "cell_type": "markdown",
   "metadata": {},
   "source": [
    "# PCT2.5"
   ]
  },
  {
   "cell_type": "code",
   "execution_count": null,
   "metadata": {},
   "outputs": [],
   "source": [
    "suffix = 5\n",
    "dataset_4 = pd.read_csv(\"provided_data/datasets/PCT2/PCT2_update_2023-04-30.csv\", parse_dates= [\"f_date_rec\"])\n",
    "dataset_4.rename(columns={\"f_date_rec\":\"date_rec\"}, inplace=True)\n",
    "\n",
    "sensor_df = dataset_4.set_index(\"date_rec\")\n",
    "# Drop NAs only if for a row there are only NANs\n",
    "sensor_df = sensor_df.dropna(how=\"all\")\n",
    "sensor_df = sensor_df[~sensor_df.index.duplicated(keep='first')]\n",
    "\n",
    "save_sanity_checking_dataset(\n",
    "    dataset=sensor_df,\n",
    "    dataset_tag=config.PCT2_DATA_TAG,\n",
    "    suffix=suffix)\n",
    "\n",
    "save_test_system_dataset(\n",
    "    dataset=sensor_df,\n",
    "    dataset_tag=config.PCT2_DATA_TAG,\n",
    "    output_dataset_name=\"pct2\")\n",
    "\n",
    "convert_and_save_dataset(\n",
    "    dataset=sensor_df,\n",
    "    dataset_tag=config.PCT2_DATA_TAG,\n",
    "    output_dataset_name=config.PCT2_DATA_TAG,\n",
    "    output_dataset_name_suffix=f\"{suffix}\",\n",
    "    act_on_na=True)"
   ]
  },
  {
   "cell_type": "markdown",
   "metadata": {},
   "source": [
    "# RBG 1"
   ]
  },
  {
   "cell_type": "code",
   "execution_count": null,
   "metadata": {},
   "outputs": [],
   "source": [
    "#with open('original_format/efficiency_modelling/RBG1/rbg_1_efficiency_model.pickle', 'rb') as handle:\n",
    "#    rbg_1_efficiency_calculator = pickle.load(handle)"
   ]
  },
  {
   "cell_type": "code",
   "execution_count": null,
   "metadata": {},
   "outputs": [],
   "source": [
    "dataset_2 = pd.read_csv(\"provided_data/datasets/RBG1/UJRBG2 2022-06-20.csv\", parse_dates= [\"timestamp\"])\n",
    "dataset_2.rename(columns={\"timestamp\":\"date_rec\"}, inplace=True)\n",
    "\n",
    "sensor_df = dataset_2.set_index(\"date_rec\")\n",
    "# Drop NAs only if for a row there are only NANs\n",
    "sensor_df = sensor_df.dropna(how=\"all\")\n",
    "sensor_df = sensor_df[~sensor_df.index.duplicated(keep='first')]\n",
    "\n",
    "save_sanity_checking_dataset(\n",
    "    dataset=sensor_df,\n",
    "    dataset_tag=config.RBG1_DATA_TAG,\n",
    "    suffix=1)\n",
    "\n",
    "save_test_system_dataset(\n",
    "    dataset=sensor_df,\n",
    "    dataset_tag=config.RBG1_DATA_TAG,\n",
    "    output_dataset_name=\"rbg1\")\n",
    "\n",
    "convert_and_save_dataset(\n",
    "    dataset=sensor_df,\n",
    "    dataset_tag=config.RBG1_DATA_TAG,\n",
    "    output_dataset_name=config.RBG1_DATA_TAG,\n",
    "    output_dataset_name_suffix=\"2\",\n",
    "    act_on_na=True)"
   ]
  },
  {
   "cell_type": "markdown",
   "metadata": {},
   "source": [
    "# RBG1 (incl. Efficiency)"
   ]
  },
  {
   "cell_type": "code",
   "execution_count": null,
   "metadata": {},
   "outputs": [],
   "source": [
    "dataset_2 = pd.read_csv(\"provided_data/datasets/RBG1/RBG1 07-2023.csv\", parse_dates= [\"f_date_rec\"])\n",
    "dataset_2.rename(columns={\"f_date_rec\":\"date_rec\"}, inplace=True)\n",
    "\n",
    "sensor_df = dataset_2.set_index(\"date_rec\")\n",
    "# Drop NAs only if for a row there are only NANs\n",
    "sensor_df = sensor_df.dropna(how=\"all\")\n",
    "sensor_df = sensor_df[~sensor_df.index.duplicated(keep='first')]\n",
    "\n",
    "save_sanity_checking_dataset(\n",
    "    dataset=sensor_df,\n",
    "    dataset_tag=config.RBG1_DATA_TAG,\n",
    "    suffix=1)\n",
    "\n",
    "save_test_system_dataset(\n",
    "    dataset=sensor_df,\n",
    "    dataset_tag=config.RBG1_DATA_TAG,\n",
    "    output_dataset_name=\"rbg1\")\n",
    "\n",
    "convert_and_save_dataset(\n",
    "    dataset=sensor_df,\n",
    "    dataset_tag=config.RBG1_DATA_TAG,\n",
    "    output_dataset_name=config.RBG1_DATA_TAG,\n",
    "    output_dataset_name_suffix=\"3\",\n",
    "    act_on_na=True)"
   ]
  },
  {
   "cell_type": "markdown",
   "metadata": {},
   "source": [
    "# RBG 2"
   ]
  },
  {
   "cell_type": "code",
   "execution_count": null,
   "metadata": {},
   "outputs": [],
   "source": [
    "#with open('original_format/efficiency_modelling/RBG2/rbg_1_efficiency_model.pickle', 'rb') as handle:\n",
    "#    rbg_3_efficiency_calculator = pickle.load(handle)"
   ]
  },
  {
   "cell_type": "code",
   "execution_count": null,
   "metadata": {},
   "outputs": [],
   "source": [
    "dataset_3 = pd.read_csv(\"provided_data/datasets/RBG2.csv\", parse_dates= [\"timestamp\"])\n",
    "dataset_3.rename(columns={\"timestamp\":\"date_rec\"}, inplace=True)\n",
    "\n",
    "sensor_df = dataset_3.set_index(\"date_rec\")\n",
    "# Drop NAs only if for a row there are only NANs\n",
    "sensor_df = sensor_df.dropna(how=\"all\")\n",
    "sensor_df = sensor_df[~sensor_df.index.duplicated(keep='first')]\n",
    "\n",
    "save_sanity_checking_dataset(\n",
    "    dataset=sensor_df,\n",
    "    dataset_tag=config.RBG2_DATA_TAG,\n",
    "    suffix=1)\n",
    "\n",
    "save_test_system_dataset(\n",
    "    dataset=sensor_df,\n",
    "    dataset_tag=config.RBG2_DATA_TAG,\n",
    "    output_dataset_name=\"rbg2\")\n",
    "\n",
    "convert_and_save_dataset(\n",
    "    dataset=sensor_df,\n",
    "    dataset_tag=config.RBG2_DATA_TAG,\n",
    "    output_dataset_name=config.RBG2_DATA_TAG,\n",
    "    output_dataset_name_suffix=\"2\",\n",
    "    act_on_na=False)"
   ]
  },
  {
   "cell_type": "markdown",
   "metadata": {},
   "source": [
    "# RBG2 (incl. Efficiency)"
   ]
  },
  {
   "cell_type": "code",
   "execution_count": null,
   "metadata": {},
   "outputs": [],
   "source": [
    "dataset_3 = pd.read_csv(\"provided_data/datasets/RBG2/RBG2 07-2023.csv\", parse_dates= [\"f_date_rec\"])\n",
    "dataset_3.rename(columns={\"f_date_rec\":\"date_rec\"}, inplace=True)\n",
    "\n",
    "sensor_df = dataset_3.set_index(\"date_rec\")\n",
    "# Drop NAs only if for a row there are only NANs\n",
    "sensor_df = sensor_df.dropna(how=\"all\")\n",
    "sensor_df = sensor_df[~sensor_df.index.duplicated(keep='first')]\n",
    "\n",
    "save_sanity_checking_dataset(\n",
    "    dataset=sensor_df,\n",
    "    dataset_tag=config.RBG2_DATA_TAG,\n",
    "    suffix=1)\n",
    "\n",
    "save_test_system_dataset(\n",
    "    dataset=sensor_df,\n",
    "    dataset_tag=config.RBG2_DATA_TAG,\n",
    "    output_dataset_name=\"rbg2\")\n",
    "\n",
    "convert_and_save_dataset(\n",
    "    dataset=sensor_df,\n",
    "    dataset_tag=config.RBG2_DATA_TAG,\n",
    "    output_dataset_name=config.RBG2_DATA_TAG,\n",
    "    output_dataset_name_suffix=\"3\",\n",
    "    act_on_na=True)"
   ]
  },
  {
   "cell_type": "markdown",
   "metadata": {},
   "source": [
    "# KTT 1"
   ]
  },
  {
   "cell_type": "markdown",
   "metadata": {},
   "source": [
    "## KTT 1.1"
   ]
  },
  {
   "cell_type": "code",
   "execution_count": null,
   "metadata": {},
   "outputs": [],
   "source": [
    "dataset_5 = concatenate_daily(\"provided_data/datasets/KTT1/UJKTT_1/model_data\")\n",
    "dataset_5[\"f_timestamp\"] = pd.to_datetime(dataset_5[\"f_timestamp\"]) \n",
    "dataset_5 = dataset_5.sort_values(by=\"f_timestamp\")\n",
    "dataset_5.rename(columns={\"f_timestamp\":\"date_rec\"}, inplace=True)\n",
    "\n",
    "sensor_df = dataset_5.set_index(\"date_rec\")\n",
    "# Drop NAs only if for a row there are only NANs\n",
    "sensor_df = sensor_df.dropna(how=\"all\")\n",
    "sensor_df = sensor_df[~sensor_df.index.duplicated(keep='first')]\n",
    "\n",
    "save_sanity_checking_dataset(\n",
    "    dataset=sensor_df,\n",
    "    dataset_tag=config.KTT1_DATA_TAG,\n",
    "    suffix=1)\n",
    "\n",
    "save_test_system_dataset(\n",
    "    dataset=sensor_df,\n",
    "    dataset_tag=config.KTT1_DATA_TAG,\n",
    "    output_dataset_name=\"ktt1\")\n",
    "\n",
    "convert_and_save_dataset(\n",
    "    dataset=sensor_df,\n",
    "    dataset_tag=config.KTT1_DATA_TAG,\n",
    "    output_dataset_name=config.KTT1_DATA_TAG,\n",
    "    output_dataset_name_suffix=\"1\",\n",
    "    act_on_na=False)"
   ]
  },
  {
   "cell_type": "markdown",
   "metadata": {},
   "source": [
    "## KTT 1.2 (compensating for KALTIM1.SIGNAL.AI.10HBK31CQ101 unavailability)"
   ]
  },
  {
   "cell_type": "code",
   "execution_count": null,
   "metadata": {},
   "outputs": [],
   "source": [
    "dataset_7 = concatenate_daily(\"provided_data/datasets/KTT1/KTT1_additional_data_1/KTT1_13022022_12042022\")\n",
    "dataset_7[\"f_timestamp\"] = pd.to_datetime(dataset_7[\"f_timestamp\"]) \n",
    "dataset_7 = dataset_7.sort_values(by=\"f_timestamp\")\n",
    "dataset_7.rename(columns={\"f_timestamp\":\"date_rec\"}, inplace=True)\n",
    "sensor_df = dataset_7.set_index(\"date_rec\")\n",
    "\n",
    "# Drop NAs only if for a row there are only NANs\n",
    "sensor_df = sensor_df.dropna(how=\"all\")\n",
    "sensor_df = sensor_df[~sensor_df.index.duplicated(keep='first')]\n",
    "\n",
    "save_sanity_checking_dataset(\n",
    "    dataset=sensor_df,\n",
    "    dataset_tag=config.KTT1_DATA_TAG,\n",
    "    suffix=2)\n",
    "\n",
    "save_test_system_dataset(\n",
    "    dataset=sensor_df,\n",
    "    dataset_tag=config.KTT1_DATA_TAG,\n",
    "    output_dataset_name=\"ktt1\")\n",
    "\n",
    "convert_and_save_dataset(\n",
    "    dataset=sensor_df,\n",
    "    dataset_tag=config.KTT1_DATA_TAG,\n",
    "    output_dataset_name=config.KTT1_DATA_TAG,\n",
    "    output_dataset_name_suffix=\"2\",\n",
    "    act_on_na=True)"
   ]
  },
  {
   "cell_type": "markdown",
   "metadata": {},
   "source": [
    "## KTT 1.3 (combination of the two)"
   ]
  },
  {
   "cell_type": "code",
   "execution_count": null,
   "metadata": {},
   "outputs": [],
   "source": [
    "KTT_11 = pd.read_csv(\"prepared_datasets/dataset_KTT1_1.csv\")\n",
    "KTT_12 = pd.read_csv(\"prepared_datasets/dataset_KTT1_2.csv\")\n",
    "dataset_8 = pd.concat([KTT_11, KTT_12], ignore_index=True)\n",
    "dataset_8.to_csv(\"prepared_datasets/dataset_KTT1_3.csv\")"
   ]
  },
  {
   "cell_type": "markdown",
   "metadata": {},
   "source": [
    "# KTT 2"
   ]
  },
  {
   "cell_type": "markdown",
   "metadata": {},
   "source": [
    "# KTT 2.1"
   ]
  },
  {
   "cell_type": "code",
   "execution_count": null,
   "metadata": {},
   "outputs": [],
   "source": [
    "dataset_6 = concatenate_daily(\"provided_data/datasets/KTT2/KTT2_additional_data_1/KTT2_13022022_12042022\")\n",
    "dataset_6[\"f_timestamp\"] = pd.to_datetime(dataset_6[\"f_timestamp\"]) \n",
    "dataset_6 = dataset_6.sort_values(by=\"f_timestamp\")\n",
    "dataset_6.rename(columns={\"f_timestamp\":\"date_rec\"}, inplace=True)\n",
    "\n",
    "sensor_df = dataset_6.set_index(\"date_rec\")\n",
    "# Drop NAs only if for a row there are only NANs\n",
    "sensor_df = sensor_df.dropna(how=\"all\")\n",
    "sensor_df = sensor_df[~sensor_df.index.duplicated(keep='first')]\n",
    "\n",
    "save_sanity_checking_dataset(\n",
    "    dataset=sensor_df,\n",
    "    dataset_tag=config.KTT2_DATA_TAG,\n",
    "    suffix=1)\n",
    "\n",
    "save_test_system_dataset(\n",
    "    dataset=sensor_df,\n",
    "    dataset_tag=config.KTT2_DATA_TAG,\n",
    "    output_dataset_name=\"ktt2\")\n",
    "\n",
    "convert_and_save_dataset(\n",
    "    dataset=sensor_df,\n",
    "    dataset_tag=config.KTT2_DATA_TAG,\n",
    "    output_dataset_name=config.KTT2_DATA_TAG,\n",
    "    output_dataset_name_suffix=\"1\",\n",
    "    act_on_na=True)"
   ]
  },
  {
   "cell_type": "markdown",
   "metadata": {},
   "source": [
    "# KTT 2.2"
   ]
  },
  {
   "cell_type": "code",
   "execution_count": null,
   "metadata": {},
   "outputs": [],
   "source": [
    "dataset_11 = concatenate_daily(\"provided_data/datasets/KTT2/UJKTT_2/model_data\")\n",
    "dataset_11[\"f_timestamp\"] = pd.to_datetime(dataset_11[\"f_timestamp\"]) \n",
    "dataset_11 = dataset_11.sort_values(by=\"f_timestamp\")\n",
    "dataset_11.rename(columns={\"f_timestamp\":\"date_rec\"}, inplace=True)\n",
    "\n",
    "sensor_df = dataset_11.set_index(\"date_rec\")\n",
    "# Drop NAs only if for a row there are only NANs\n",
    "sensor_df = sensor_df.dropna(how=\"all\")\n",
    "sensor_df = sensor_df[~sensor_df.index.duplicated(keep='first')]\n",
    "\n",
    "save_sanity_checking_dataset(\n",
    "    dataset=sensor_df,\n",
    "    dataset_tag=config.KTT2_DATA_TAG,\n",
    "    suffix=2)\n",
    "\n",
    "save_test_system_dataset(\n",
    "    dataset=sensor_df,\n",
    "    dataset_tag=config.KTT2_DATA_TAG,\n",
    "    output_dataset_name=\"ktt2\")\n",
    "\n",
    "convert_and_save_dataset(\n",
    "    dataset=sensor_df,\n",
    "    dataset_tag=config.KTT2_DATA_TAG,\n",
    "    output_dataset_name=config.KTT2_DATA_TAG,\n",
    "    output_dataset_name_suffix=\"1\",\n",
    "    act_on_na=True)"
   ]
  },
  {
   "cell_type": "markdown",
   "metadata": {},
   "source": [
    "# KTT 2.3"
   ]
  },
  {
   "cell_type": "code",
   "execution_count": null,
   "metadata": {},
   "outputs": [],
   "source": [
    "KTT_21 = pd.read_csv(\"prepared_datasets/dataset_KTT2_1.csv\")\n",
    "KTT_22 = pd.read_csv(\"prepared_datasets/dataset_KTT2_2.csv\")\n",
    "dataset_12 = pd.concat([KTT_21, KTT_22], ignore_index=True)\n",
    "dataset_12.to_csv(\"prepared_datasets/dataset_KTT2_3.csv\")\n",
    "KTT_21_sanity_check = pd.read_csv(\"KTT2_for_sanity_checking.csv\")\n",
    "KTT_22_sanity_check = pd.read_csv(\"KTT2_for_sanity_checking1.csv.csv\")"
   ]
  },
  {
   "cell_type": "markdown",
   "metadata": {},
   "source": [
    "# KTT 2.4"
   ]
  },
  {
   "cell_type": "code",
   "execution_count": null,
   "metadata": {},
   "outputs": [],
   "source": [
    "dataset_13 = concatenate_daily(\"provided_data/datasets/KTT2/KTT2_20220904_20220923\")\n",
    "dataset_13[\"f_timestamp\"] = pd.to_datetime(dataset_13[\"f_timestamp\"]) \n",
    "dataset_13 = dataset_13.sort_values(by=\"f_timestamp\")\n",
    "dataset_13.rename(columns={\"f_timestamp\":\"date_rec\"}, inplace=True)\n",
    "\n",
    "sensor_df = dataset_13.set_index(\"date_rec\")\n",
    "# Drop NAs only if for a row there are only NANs\n",
    "sensor_df = sensor_df.dropna(how=\"all\")\n",
    "sensor_df = sensor_df[~sensor_df.index.duplicated(keep='first')]\n",
    "\n",
    "save_sanity_checking_dataset(\n",
    "    dataset=sensor_df,\n",
    "    dataset_tag=config.KTT2_DATA_TAG,\n",
    "    suffix=2)\n",
    "\n",
    "save_test_system_dataset(\n",
    "    dataset=sensor_df,\n",
    "    dataset_tag=config.KTT2_DATA_TAG,\n",
    "    output_dataset_name=\"ktt2\")\n",
    "\n",
    "convert_and_save_dataset(\n",
    "    dataset=sensor_df,\n",
    "    dataset_tag=config.KTT2_DATA_TAG,\n",
    "    output_dataset_name=config.KTT2_DATA_TAG,\n",
    "    output_dataset_name_suffix=\"4\",\n",
    "    act_on_na=True)"
   ]
  },
  {
   "cell_type": "markdown",
   "metadata": {},
   "source": [
    "# KTT 2.5"
   ]
  },
  {
   "cell_type": "code",
   "execution_count": null,
   "metadata": {},
   "outputs": [],
   "source": [
    "KTT_23 = pd.read_csv(\"prepared_datasets/dataset_KTT2_3.csv\")\n",
    "KTT_24 = pd.read_csv(\"prepared_datasets/dataset_KTT2_4.csv\")\n",
    "dataset_14 = pd.concat([KTT_23, KTT_24], ignore_index=True)\n",
    "dataset_14.to_csv(\"prepared_datasets/dataset_KTT2_5.csv\")"
   ]
  },
  {
   "cell_type": "code",
   "execution_count": null,
   "metadata": {},
   "outputs": [],
   "source": [
    "KTT_21_sanity_check = pd.read_csv(\"KTT2_for_sanity_checking.csv\")\n",
    "KTT_22_sanity_check = pd.read_csv(\"KTT2_for_sanity_checking1.csv\")\n",
    "KTT_23_sanity_check = pd.read_csv(\"KTT2_for_sanity_checking2.csv\")\n",
    "sanity_check_KTT2 = pd.concat([KTT_21_sanity_check,KTT_22_sanity_check,KTT_23_sanity_check], ignore_index=True)"
   ]
  },
  {
   "cell_type": "code",
   "execution_count": null,
   "metadata": {},
   "outputs": [],
   "source": [
    "sanity_check_KTT2.to_csv(\"sanity_check_KTT2.csv\")"
   ]
  },
  {
   "cell_type": "markdown",
   "metadata": {},
   "source": [
    "# AMG 1"
   ]
  },
  {
   "cell_type": "code",
   "execution_count": null,
   "metadata": {},
   "outputs": [],
   "source": [
    "dataset_9 = pd.read_csv(\"provided_data/datasets/AMG1/AMG1_new.csv\", parse_dates=[\"timestamp\"])\n",
    "pa_pressure_dataset_9 = pd.read_csv(\"provided_data/datasets/AMG1/ALA30CP101.csv\", parse_dates=[\"timestamp\"])\n",
    "pa_pressure_dataset_9 = pa_pressure_dataset_9.sort_values(by=\"timestamp\")\n",
    "dataset_9 = dataset_9.sort_values(by=\"timestamp\")\n",
    "dataset_9[\"ALA30CP101\"] = pa_pressure_dataset_9[\"ALA30CP101\"]\n",
    "dataset_9.rename(columns={\"timestamp\":\"date_rec\"}, inplace=True)\n",
    "\n",
    "sensor_df = dataset_9.set_index(\"date_rec\")\n",
    "#Drop NAs only if for a row there are only NANs\n",
    "sensor_df = sensor_df.dropna(how=\"all\")\n",
    "sensor_df = sensor_df[~sensor_df.index.duplicated(keep='first')]\n",
    "\n",
    "save_sanity_checking_dataset(\n",
    "    dataset=sensor_df,\n",
    "    dataset_tag=config.AMG1_DATA_TAG,\n",
    "    suffix=1)\n",
    "\n",
    "save_test_system_dataset(\n",
    "   dataset=sensor_df,\n",
    "   dataset_tag=config.AMG1_DATA_TAG,\n",
    "   output_dataset_name=\"amg1\")\n",
    "\n",
    "convert_and_save_dataset(\n",
    "   dataset=sensor_df,\n",
    "   dataset_tag=config.AMG1_DATA_TAG,\n",
    "   output_dataset_name=config.AMG1_DATA_TAG,\n",
    "   output_dataset_name_suffix=\"2\",\n",
    "   act_on_na=True)"
   ]
  },
  {
   "cell_type": "markdown",
   "metadata": {},
   "source": [
    "# AMG 2"
   ]
  },
  {
   "cell_type": "code",
   "execution_count": null,
   "metadata": {},
   "outputs": [],
   "source": [
    "dataset_10 = pd.read_csv(\"provided_data/datasets/AMG2/AMG2_new.csv\", parse_dates=[\"timestamp\"])\n",
    "pa_pressure_dataset_10 = pd.read_csv(\"provided_data/datasets/AMG2/BLA30CP101.csv\", parse_dates=[\"timestamp\"]) \n",
    "pa_pressure_dataset_10 = pa_pressure_dataset_10.sort_values(by=\"timestamp\")\n",
    "dataset_10 = dataset_10.sort_values(by=\"timestamp\")\n",
    "dataset_10[\"BLA30CP101\"] = pa_pressure_dataset_10[\"BLA30CP101\"]\n",
    "dataset_10.rename(columns={\"timestamp\":\"date_rec\"}, inplace=True)\n",
    "\n",
    "sensor_df = dataset_10.set_index(\"date_rec\")\n",
    "# Drop NAs only if for a row there are only NANs\n",
    "sensor_df = sensor_df.dropna(how=\"all\")\n",
    "sensor_df = sensor_df[~sensor_df.index.duplicated(keep='first')]\n",
    "\n",
    "save_sanity_checking_dataset(\n",
    "    dataset=sensor_df,\n",
    "    dataset_tag=config.AMG2_DATA_TAG,\n",
    "    suffix=1)\n",
    "\n",
    "save_test_system_dataset(\n",
    "    dataset=sensor_df,\n",
    "    dataset_tag=config.AMG2_DATA_TAG,\n",
    "    output_dataset_name=\"amg2\")\n",
    "\n",
    "convert_and_save_dataset(\n",
    "    dataset=sensor_df,\n",
    "    dataset_tag=config.AMG2_DATA_TAG,\n",
    "    output_dataset_name=config.AMG2_DATA_TAG,\n",
    "    output_dataset_name_suffix=\"2\",\n",
    "    act_on_na=True)"
   ]
  },
  {
   "cell_type": "markdown",
   "metadata": {},
   "source": [
    "# BLK1"
   ]
  },
  {
   "cell_type": "code",
   "execution_count": null,
   "metadata": {},
   "outputs": [],
   "source": [
    "dataset_14 = pd.read_csv(\"provided_data/datasets/BLK1.csv\", parse_dates=[\"Unnamed: 0\"])\n",
    "dataset_14 = dataset_14.sort_values(by=\"Unnamed: 0\")\n",
    "dataset_14.rename(columns={\"Unnamed: 0\":\"date_rec\"}, inplace=True)\n",
    "\n",
    "sensor_df = dataset_14.set_index(\"date_rec\")\n",
    "# Drop NAs only if for a row there are only NANs\n",
    "sensor_df = sensor_df.dropna(how=\"all\")\n",
    "sensor_df = sensor_df[~sensor_df.index.duplicated(keep='first')]\n",
    "\n",
    "save_sanity_checking_dataset(\n",
    "    dataset=sensor_df,\n",
    "    dataset_tag=config.BLK1_DATA_TAG,\n",
    "    suffix=1)\n",
    "\n",
    "save_test_system_dataset(\n",
    "    dataset=sensor_df,\n",
    "    dataset_tag=config.BLK1_DATA_TAG,\n",
    "    output_dataset_name=\"blk1\")\n",
    "\n",
    "convert_and_save_dataset(\n",
    "    dataset=sensor_df,\n",
    "    dataset_tag=config.BLK1_DATA_TAG,\n",
    "    output_dataset_name=config.BLK1_DATA_TAG,\n",
    "    output_dataset_name_suffix=\"1\",\n",
    "    act_on_na=True)"
   ]
  },
  {
   "cell_type": "markdown",
   "metadata": {},
   "source": [
    "# BLK 1 (incl. Efficiency)"
   ]
  },
  {
   "cell_type": "code",
   "execution_count": null,
   "metadata": {},
   "outputs": [],
   "source": [
    "dataset_14 = pd.read_csv(\"provided_data/datasets/BLK1/UJBLK1.csv\", parse_dates=[\"f_date_rec\"])\n",
    "dataset_14 = dataset_14.sort_values(by=\"f_date_rec\")\n",
    "dataset_14.rename(columns={\"f_date_rec\":\"date_rec\"}, inplace=True)\n",
    "\n",
    "sensor_df = dataset_14.set_index(\"date_rec\")\n",
    "# Drop NAs only if for a row there are only NANs\n",
    "sensor_df = sensor_df.dropna(how=\"all\")\n",
    "sensor_df = sensor_df[~sensor_df.index.duplicated(keep='first')]\n",
    "\n",
    "save_sanity_checking_dataset(\n",
    "    dataset=sensor_df,\n",
    "    dataset_tag=config.BLK1_DATA_TAG,\n",
    "    suffix=1)\n",
    "\n",
    "save_test_system_dataset(\n",
    "    dataset=sensor_df,\n",
    "    dataset_tag=config.BLK1_DATA_TAG,\n",
    "    output_dataset_name=\"blk1\")\n",
    "\n",
    "convert_and_save_dataset(\n",
    "    dataset=sensor_df,\n",
    "    dataset_tag=config.BLK1_DATA_TAG,\n",
    "    output_dataset_name=config.BLK1_DATA_TAG,\n",
    "    output_dataset_name_suffix=\"2\",\n",
    "    act_on_na=True)"
   ]
  },
  {
   "cell_type": "markdown",
   "metadata": {},
   "source": [
    "# BLK2"
   ]
  },
  {
   "cell_type": "code",
   "execution_count": null,
   "metadata": {},
   "outputs": [],
   "source": [
    "dataset_15 = pd.read_csv(\"provided_data/datasets/BLK2/BLK2.csv\", parse_dates=[\"Unnamed: 0\"])\n",
    "dataset_15 = dataset_15.sort_values(by=\"Unnamed: 0\")\n",
    "dataset_15.rename(columns={\"Unnamed: 0\":\"date_rec\"}, inplace=True)\n",
    "\n",
    "sensor_df = dataset_15.set_index(\"date_rec\")\n",
    "# Drop NAs only if for a row there are only NANs\n",
    "sensor_df = sensor_df.dropna(how=\"all\")\n",
    "sensor_df = sensor_df[~sensor_df.index.duplicated(keep='first')]\n",
    "\n",
    "save_sanity_checking_dataset(\n",
    "    dataset=sensor_df,\n",
    "    dataset_tag=config.BLK2_DATA_TAG,\n",
    "    suffix=1)\n",
    "\n",
    "save_test_system_dataset(\n",
    "    dataset=sensor_df,\n",
    "    dataset_tag=config.BLK2_DATA_TAG,\n",
    "    output_dataset_name=\"blk2\")\n",
    "\n",
    "convert_and_save_dataset(\n",
    "    dataset=sensor_df,\n",
    "    dataset_tag=config.BLK2_DATA_TAG,\n",
    "    output_dataset_name=config.BLK2_DATA_TAG,\n",
    "    output_dataset_name_suffix=\"1\",\n",
    "    act_on_na=True)"
   ]
  },
  {
   "cell_type": "markdown",
   "metadata": {},
   "source": [
    "# BLK2 (incl. Efficiency)"
   ]
  },
  {
   "cell_type": "code",
   "execution_count": 8,
   "metadata": {},
   "outputs": [
    {
     "data": {
      "image/png": "[encoded data removed]",
      "text/plain": [
       "<Figure size 432x288 with 1 Axes>"
      ]
     },
     "metadata": {
      "needs_background": "light"
     },
     "output_type": "display_data"
    }
   ],
   "source": [
    "dataset_15 = pd.read_csv(\"provided_data/datasets/BLK2/UJBLK2.csv\", parse_dates=[\"f_date_rec\"])\n",
    "dataset_15 = dataset_15.sort_values(by=\"f_date_rec\")\n",
    "dataset_15.rename(columns={\"f_date_rec\":\"date_rec\"}, inplace=True)\n",
    "\n",
    "sensor_df = dataset_15.set_index(\"date_rec\")\n",
    "# Drop NAs only if for a row there are only NANs\n",
    "sensor_df = sensor_df.dropna(how=\"all\")\n",
    "sensor_df = sensor_df[~sensor_df.index.duplicated(keep='first')]\n",
    "\n",
    "save_sanity_checking_dataset(\n",
    "    dataset=sensor_df,\n",
    "    dataset_tag=config.BLK2_DATA_TAG,\n",
    "    suffix=2)\n",
    "\n",
    "save_test_system_dataset(\n",
    "    dataset=sensor_df,\n",
    "    dataset_tag=config.BLK2_DATA_TAG,\n",
    "    output_dataset_name=\"blk2\")\n",
    "\n",
    "convert_and_save_dataset(\n",
    "    dataset=sensor_df,\n",
    "    dataset_tag=config.BLK2_DATA_TAG,\n",
    "    output_dataset_name=config.BLK2_DATA_TAG,\n",
    "    output_dataset_name_suffix=\"2\",\n",
    "    act_on_na=True)"
   ]
  },
  {
   "cell_type": "markdown",
   "metadata": {},
   "source": [
    "# BLT1 with Efficiency"
   ]
  },
  {
   "cell_type": "code",
   "execution_count": null,
   "metadata": {},
   "outputs": [],
   "source": [
    "dataset_16 = pd.read_csv(f\"provided_data/datasets/{config.BLT1_DATA_TAG}/BLT1.csv\", parse_dates=[\"timestamp\"])\n",
    "dataset_16 = dataset_16.sort_values(by=\"timestamp\")\n",
    "dataset_16.rename(columns={\"timestamp\":\"date_rec\"}, inplace=True)\n",
    "\n",
    "efficiency_blt1 = pd.read_csv(f\"provided_data/datasets/{config.BLT1_DATA_TAG}/Eff_BLT1.csv\")\n",
    "efficiency_blt1.rename(columns={\"Unnamed: 0\": \"date_rec\",\n",
    "                                \"Boiler (Fuel) Efficiency\": \"Efficiency\"}, inplace=True)\n",
    "efficiency_blt1[\"date_rec\"] = pd.to_datetime(efficiency_blt1[\"date_rec\"])\n",
    "dataset_16 = dataset_16.merge(efficiency_blt1, how=\"left\", on=\"date_rec\")\n",
    "\n",
    "\n",
    "sensor_df = dataset_16.set_index(\"date_rec\")\n",
    "# Drop NAs only if for a row there are only NANs\n",
    "sensor_df = sensor_df.dropna(how=\"all\")\n",
    "sensor_df = sensor_df[~sensor_df.index.duplicated(keep='first')]\n",
    "\n",
    "save_sanity_checking_dataset(\n",
    "    dataset=sensor_df,\n",
    "    dataset_tag=config.BLT1_DATA_TAG,\n",
    "    suffix=2)\n",
    "\n",
    "save_test_system_dataset(\n",
    "    dataset=sensor_df,\n",
    "    dataset_tag=config.BLT1_DATA_TAG,\n",
    "    output_dataset_name=\"blt1\")\n",
    "\n",
    "convert_and_save_dataset(\n",
    "    dataset=sensor_df,\n",
    "    dataset_tag=config.BLT1_DATA_TAG,\n",
    "    \n",
    "    output_dataset_name=config.BLT1_DATA_TAG,\n",
    "    output_dataset_name_suffix=\"2\",\n",
    "    act_on_na=True)"
   ]
  },
  {
   "cell_type": "markdown",
   "metadata": {},
   "source": [
    "# BLT1"
   ]
  },
  {
   "cell_type": "code",
   "execution_count": null,
   "metadata": {},
   "outputs": [],
   "source": [
    "dataset_16 = pd.read_csv(f\"provided_data/datasets/{config.BLT1_DATA_TAG}/BLT1.csv\", parse_dates=[\"timestamp\"])\n",
    "dataset_16 = dataset_16.sort_values(by=\"timestamp\")\n",
    "dataset_16.rename(columns={\"timestamp\":\"date_rec\"}, inplace=True)\n",
    "\n",
    "sensor_df = dataset_16.set_index(\"date_rec\")\n",
    "# Drop NAs only if for a row there are only NANs\n",
    "sensor_df = sensor_df.dropna(how=\"all\")\n",
    "sensor_df = sensor_df[~sensor_df.index.duplicated(keep='first')]\n",
    "\n",
    "save_sanity_checking_dataset(\n",
    "    dataset=sensor_df,\n",
    "    dataset_tag=config.BLT1_DATA_TAG,\n",
    "    suffix=1)\n",
    "\n",
    "save_test_system_dataset(\n",
    "    dataset=sensor_df,\n",
    "    dataset_tag=config.BLT1_DATA_TAG,\n",
    "    output_dataset_name=\"blt1\")\n",
    "\n",
    "convert_and_save_dataset(\n",
    "    dataset=sensor_df,\n",
    "    dataset_tag=config.BLT1_DATA_TAG,\n",
    "    \n",
    "    output_dataset_name=config.BLT1_DATA_TAG,\n",
    "    output_dataset_name_suffix=\"2\",\n",
    "    act_on_na=True)"
   ]
  },
  {
   "cell_type": "markdown",
   "metadata": {},
   "source": [
    "# BLT 2 with Efficiency"
   ]
  },
  {
   "cell_type": "code",
   "execution_count": null,
   "metadata": {},
   "outputs": [],
   "source": [
    "dataset_17 = pd.read_csv(f\"provided_data/datasets/{config.BLT2_DATA_TAG}/BLT2.csv\", parse_dates=[\"timestamp\"])\n",
    "dataset_17 = dataset_17.sort_values(by=\"timestamp\")\n",
    "dataset_17.rename(columns={\"timestamp\":\"date_rec\"}, inplace=True)\n",
    "\n",
    "efficiency_blt2 = pd.read_csv(f\"provided_data/datasets/{config.BLT2_DATA_TAG}/Eff_BLT2.csv\")\n",
    "efficiency_blt2.rename(columns={\"Unnamed: 0\": \"date_rec\",\n",
    "                                \"Boiler (Fuel) Efficiency\": \"Efficiency\"}, inplace=True)\n",
    "efficiency_blt2[\"date_rec\"] = pd.to_datetime(efficiency_blt2[\"date_rec\"])\n",
    "dataset_17 = dataset_17.merge(efficiency_blt2, how=\"left\", on=\"date_rec\")\n",
    "\n",
    "sensor_df = dataset_17.set_index(\"date_rec\")\n",
    "# Drop NAs only if for a row there are only NANs\n",
    "sensor_df = sensor_df.dropna(how=\"all\")\n",
    "sensor_df = sensor_df[~sensor_df.index.duplicated(keep='first')]\n",
    "\n",
    "save_sanity_checking_dataset(\n",
    "    dataset=sensor_df,\n",
    "    dataset_tag=config.BLT2_DATA_TAG,\n",
    "    suffix=1)\n",
    "\n",
    "save_test_system_dataset(\n",
    "    dataset=sensor_df,\n",
    "    dataset_tag=config.BLT2_DATA_TAG,\n",
    "    output_dataset_name=\"blt2\")\n",
    "\n",
    "convert_and_save_dataset(\n",
    "    dataset=sensor_df,\n",
    "    dataset_tag=config.BLT2_DATA_TAG,\n",
    "    output_dataset_name=config.BLT2_DATA_TAG,\n",
    "    output_dataset_name_suffix=\"2\",\n",
    "    act_on_na=True)\n"
   ]
  },
  {
   "cell_type": "markdown",
   "metadata": {},
   "source": [
    "# BLT2"
   ]
  },
  {
   "cell_type": "code",
   "execution_count": null,
   "metadata": {},
   "outputs": [],
   "source": [
    "dataset_17 = pd.read_csv(f\"provided_data/datasets/{config.BLT2_DATA_TAG}/BLT2.csv\", parse_dates=[\"timestamp\"])\n",
    "dataset_17 = dataset_17.sort_values(by=\"timestamp\")\n",
    "dataset_17.rename(columns={\"timestamp\":\"date_rec\"}, inplace=True)\n",
    "\n",
    "sensor_df = dataset_17.set_index(\"date_rec\")\n",
    "# Drop NAs only if for a row there are only NANs\n",
    "sensor_df = sensor_df.dropna(how=\"all\")\n",
    "sensor_df = sensor_df[~sensor_df.index.duplicated(keep='first')]\n",
    "\n",
    "save_sanity_checking_dataset(\n",
    "    dataset=sensor_df,\n",
    "    dataset_tag=config.BLT2_DATA_TAG,\n",
    "    suffix=1)\n",
    "\n",
    "save_test_system_dataset(\n",
    "    dataset=sensor_df,\n",
    "    dataset_tag=config.BLT2_DATA_TAG,\n",
    "    output_dataset_name=\"blt2\")\n",
    "\n",
    "convert_and_save_dataset(\n",
    "    dataset=sensor_df,\n",
    "    dataset_tag=config.BLT2_DATA_TAG,\n",
    "    output_dataset_name=config.BLT2_DATA_TAG,\n",
    "    output_dataset_name_suffix=\"3\",\n",
    "    act_on_na=True)"
   ]
  },
  {
   "cell_type": "markdown",
   "metadata": {},
   "source": [
    "# PAITON9"
   ]
  },
  {
   "cell_type": "code",
   "execution_count": null,
   "metadata": {},
   "outputs": [],
   "source": [
    "dataset_18 = pd.read_csv(\"provided_data/datasets/PTN9.csv\", parse_dates=[\"f_date_rec\"])\n",
    "dataset_18 = dataset_18.sort_values(by=\"f_date_rec\")\n",
    "dataset_18.rename(columns={\"Unnamed: 0\":\"f_date_rec\"}, inplace=True)\n",
    "\n",
    "sensor_df = dataset_18.set_index(\"f_date_rec\")\n",
    "# Drop NAs only if for a row there are only NANs\n",
    "sensor_df = sensor_df.dropna(how=\"all\")\n",
    "sensor_df = sensor_df[~sensor_df.index.duplicated(keep='first')]\n",
    "\n",
    "save_sanity_checking_dataset(\n",
    "    dataset=sensor_df,\n",
    "    dataset_tag=config.PTN9_DATA_TAG,\n",
    "    suffix=1)\n",
    "\n",
    "save_test_system_dataset(\n",
    "    dataset=sensor_df,\n",
    "    dataset_tag=config.PTN9_DATA_TAG,\n",
    "    output_dataset_name=\"ptn9\")\n",
    "\n",
    "convert_and_save_dataset(\n",
    "    dataset=sensor_df,\n",
    "    dataset_tag=config.PTN9_DATA_TAG,\n",
    "    output_dataset_name=config.PTN9_DATA_TAG,\n",
    "    output_dataset_name_suffix=\"1\",\n",
    "    act_on_na=True)"
   ]
  },
  {
   "cell_type": "markdown",
   "metadata": {},
   "source": [
    "# PAITON9 v2"
   ]
  },
  {
   "cell_type": "code",
   "execution_count": null,
   "metadata": {},
   "outputs": [],
   "source": [
    "dataset_18 = pd.read_csv(\"provided_data/datasets/PTN9_v2.csv\", parse_dates=[\"f_date_rec\"])\n",
    "dataset_18 = dataset_18.sort_values(by=\"f_date_rec\")\n",
    "dataset_18.rename(columns={\"Unnamed: 0\":\"f_date_rec\"}, inplace=True)\n",
    "\n",
    "sensor_df = dataset_18.set_index(\"f_date_rec\")\n",
    "# Drop NAs only if for a row there are only NANs\n",
    "sensor_df = sensor_df.dropna(how=\"all\")\n",
    "sensor_df = sensor_df[~sensor_df.index.duplicated(keep='first')]\n",
    "\n",
    "save_sanity_checking_dataset(\n",
    "    dataset=sensor_df,\n",
    "    dataset_tag=config.PTN9_DATA_TAG,\n",
    "    suffix=2)\n",
    "\n",
    "save_test_system_dataset(\n",
    "    dataset=sensor_df,\n",
    "    dataset_tag=config.PTN9_DATA_TAG,\n",
    "    output_dataset_name=\"ptn9v2\")\n",
    "\n",
    "convert_and_save_dataset(\n",
    "    dataset=sensor_df,\n",
    "    dataset_tag=config.PTN9_DATA_TAG,\n",
    "    output_dataset_name=config.PTN9_DATA_TAG,\n",
    "    output_dataset_name_suffix=\"2\",\n",
    "    act_on_na=True)"
   ]
  },
  {
   "cell_type": "markdown",
   "metadata": {},
   "source": [
    "# PAITON9 v3"
   ]
  },
  {
   "cell_type": "code",
   "execution_count": 2,
   "metadata": {},
   "outputs": [
    {
     "ename": "FileNotFoundError",
     "evalue": "[Errno 2] No such file or directory: 'provided_data/datasets/PTN9_v3.csv'",
     "output_type": "error",
     "traceback": [
      "\u001b[0;31m---------------------------------------------------------------------------\u001b[0m",
      "\u001b[0;31mFileNotFoundError\u001b[0m                         Traceback (most recent call last)",
      "Input \u001b[0;32mIn [2]\u001b[0m, in \u001b[0;36m<cell line: 1>\u001b[0;34m()\u001b[0m\n\u001b[0;32m----> 1\u001b[0m dataset_18 \u001b[38;5;241m=\u001b[39m \u001b[43mpd\u001b[49m\u001b[38;5;241;43m.\u001b[39;49m\u001b[43mread_csv\u001b[49m\u001b[43m(\u001b[49m\u001b[38;5;124;43m\"\u001b[39;49m\u001b[38;5;124;43mprovided_data/datasets/PTN9_v3.csv\u001b[39;49m\u001b[38;5;124;43m\"\u001b[39;49m\u001b[43m,\u001b[49m\u001b[43m \u001b[49m\u001b[43mparse_dates\u001b[49m\u001b[38;5;241;43m=\u001b[39;49m\u001b[43m[\u001b[49m\u001b[38;5;124;43m\"\u001b[39;49m\u001b[38;5;124;43mtimestamp\u001b[39;49m\u001b[38;5;124;43m\"\u001b[39;49m\u001b[43m]\u001b[49m\u001b[43m)\u001b[49m\n\u001b[1;32m      2\u001b[0m dataset_18 \u001b[38;5;241m=\u001b[39m dataset_18\u001b[38;5;241m.\u001b[39msort_values(by\u001b[38;5;241m=\u001b[39m\u001b[38;5;124m\"\u001b[39m\u001b[38;5;124mtimestamp\u001b[39m\u001b[38;5;124m\"\u001b[39m)\n\u001b[1;32m      3\u001b[0m dataset_18\u001b[38;5;241m.\u001b[39mrename(columns\u001b[38;5;241m=\u001b[39m{\u001b[38;5;124m\"\u001b[39m\u001b[38;5;124mtimestamp\u001b[39m\u001b[38;5;124m\"\u001b[39m:\u001b[38;5;124m\"\u001b[39m\u001b[38;5;124mdate_rec\u001b[39m\u001b[38;5;124m\"\u001b[39m}, inplace\u001b[38;5;241m=\u001b[39m\u001b[38;5;28;01mTrue\u001b[39;00m)\n",
      "File \u001b[0;32m~/miniconda3/lib/python3.8/site-packages/pandas/io/parsers.py:610\u001b[0m, in \u001b[0;36mread_csv\u001b[0;34m(filepath_or_buffer, sep, delimiter, header, names, index_col, usecols, squeeze, prefix, mangle_dupe_cols, dtype, engine, converters, true_values, false_values, skipinitialspace, skiprows, skipfooter, nrows, na_values, keep_default_na, na_filter, verbose, skip_blank_lines, parse_dates, infer_datetime_format, keep_date_col, date_parser, dayfirst, cache_dates, iterator, chunksize, compression, thousands, decimal, lineterminator, quotechar, quoting, doublequote, escapechar, comment, encoding, dialect, error_bad_lines, warn_bad_lines, delim_whitespace, low_memory, memory_map, float_precision, storage_options)\u001b[0m\n\u001b[1;32m    605\u001b[0m kwds_defaults \u001b[38;5;241m=\u001b[39m _refine_defaults_read(\n\u001b[1;32m    606\u001b[0m     dialect, delimiter, delim_whitespace, engine, sep, defaults\u001b[38;5;241m=\u001b[39m{\u001b[38;5;124m\"\u001b[39m\u001b[38;5;124mdelimiter\u001b[39m\u001b[38;5;124m\"\u001b[39m: \u001b[38;5;124m\"\u001b[39m\u001b[38;5;124m,\u001b[39m\u001b[38;5;124m\"\u001b[39m}\n\u001b[1;32m    607\u001b[0m )\n\u001b[1;32m    608\u001b[0m kwds\u001b[38;5;241m.\u001b[39mupdate(kwds_defaults)\n\u001b[0;32m--> 610\u001b[0m \u001b[38;5;28;01mreturn\u001b[39;00m \u001b[43m_read\u001b[49m\u001b[43m(\u001b[49m\u001b[43mfilepath_or_buffer\u001b[49m\u001b[43m,\u001b[49m\u001b[43m \u001b[49m\u001b[43mkwds\u001b[49m\u001b[43m)\u001b[49m\n",
      "File \u001b[0;32m~/miniconda3/lib/python3.8/site-packages/pandas/io/parsers.py:462\u001b[0m, in \u001b[0;36m_read\u001b[0;34m(filepath_or_buffer, kwds)\u001b[0m\n\u001b[1;32m    459\u001b[0m _validate_names(kwds\u001b[38;5;241m.\u001b[39mget(\u001b[38;5;124m\"\u001b[39m\u001b[38;5;124mnames\u001b[39m\u001b[38;5;124m\"\u001b[39m, \u001b[38;5;28;01mNone\u001b[39;00m))\n\u001b[1;32m    461\u001b[0m \u001b[38;5;66;03m# Create the parser.\u001b[39;00m\n\u001b[0;32m--> 462\u001b[0m parser \u001b[38;5;241m=\u001b[39m \u001b[43mTextFileReader\u001b[49m\u001b[43m(\u001b[49m\u001b[43mfilepath_or_buffer\u001b[49m\u001b[43m,\u001b[49m\u001b[43m \u001b[49m\u001b[38;5;241;43m*\u001b[39;49m\u001b[38;5;241;43m*\u001b[39;49m\u001b[43mkwds\u001b[49m\u001b[43m)\u001b[49m\n\u001b[1;32m    464\u001b[0m \u001b[38;5;28;01mif\u001b[39;00m chunksize \u001b[38;5;129;01mor\u001b[39;00m iterator:\n\u001b[1;32m    465\u001b[0m     \u001b[38;5;28;01mreturn\u001b[39;00m parser\n",
      "File \u001b[0;32m~/miniconda3/lib/python3.8/site-packages/pandas/io/parsers.py:819\u001b[0m, in \u001b[0;36mTextFileReader.__init__\u001b[0;34m(self, f, engine, **kwds)\u001b[0m\n\u001b[1;32m    816\u001b[0m \u001b[38;5;28;01mif\u001b[39;00m \u001b[38;5;124m\"\u001b[39m\u001b[38;5;124mhas_index_names\u001b[39m\u001b[38;5;124m\"\u001b[39m \u001b[38;5;129;01min\u001b[39;00m kwds:\n\u001b[1;32m    817\u001b[0m     \u001b[38;5;28mself\u001b[39m\u001b[38;5;241m.\u001b[39moptions[\u001b[38;5;124m\"\u001b[39m\u001b[38;5;124mhas_index_names\u001b[39m\u001b[38;5;124m\"\u001b[39m] \u001b[38;5;241m=\u001b[39m kwds[\u001b[38;5;124m\"\u001b[39m\u001b[38;5;124mhas_index_names\u001b[39m\u001b[38;5;124m\"\u001b[39m]\n\u001b[0;32m--> 819\u001b[0m \u001b[38;5;28mself\u001b[39m\u001b[38;5;241m.\u001b[39m_engine \u001b[38;5;241m=\u001b[39m \u001b[38;5;28;43mself\u001b[39;49m\u001b[38;5;241;43m.\u001b[39;49m\u001b[43m_make_engine\u001b[49m\u001b[43m(\u001b[49m\u001b[38;5;28;43mself\u001b[39;49m\u001b[38;5;241;43m.\u001b[39;49m\u001b[43mengine\u001b[49m\u001b[43m)\u001b[49m\n",
      "File \u001b[0;32m~/miniconda3/lib/python3.8/site-packages/pandas/io/parsers.py:1050\u001b[0m, in \u001b[0;36mTextFileReader._make_engine\u001b[0;34m(self, engine)\u001b[0m\n\u001b[1;32m   1046\u001b[0m     \u001b[38;5;28;01mraise\u001b[39;00m \u001b[38;5;167;01mValueError\u001b[39;00m(\n\u001b[1;32m   1047\u001b[0m         \u001b[38;5;124mf\u001b[39m\u001b[38;5;124m\"\u001b[39m\u001b[38;5;124mUnknown engine: \u001b[39m\u001b[38;5;132;01m{\u001b[39;00mengine\u001b[38;5;132;01m}\u001b[39;00m\u001b[38;5;124m (valid options are \u001b[39m\u001b[38;5;132;01m{\u001b[39;00mmapping\u001b[38;5;241m.\u001b[39mkeys()\u001b[38;5;132;01m}\u001b[39;00m\u001b[38;5;124m)\u001b[39m\u001b[38;5;124m\"\u001b[39m\n\u001b[1;32m   1048\u001b[0m     )\n\u001b[1;32m   1049\u001b[0m \u001b[38;5;66;03m# error: Too many arguments for \"ParserBase\"\u001b[39;00m\n\u001b[0;32m-> 1050\u001b[0m \u001b[38;5;28;01mreturn\u001b[39;00m \u001b[43mmapping\u001b[49m\u001b[43m[\u001b[49m\u001b[43mengine\u001b[49m\u001b[43m]\u001b[49m\u001b[43m(\u001b[49m\u001b[38;5;28;43mself\u001b[39;49m\u001b[38;5;241;43m.\u001b[39;49m\u001b[43mf\u001b[49m\u001b[43m,\u001b[49m\u001b[43m \u001b[49m\u001b[38;5;241;43m*\u001b[39;49m\u001b[38;5;241;43m*\u001b[39;49m\u001b[38;5;28;43mself\u001b[39;49m\u001b[38;5;241;43m.\u001b[39;49m\u001b[43moptions\u001b[49m\u001b[43m)\u001b[49m\n",
      "File \u001b[0;32m~/miniconda3/lib/python3.8/site-packages/pandas/io/parsers.py:1867\u001b[0m, in \u001b[0;36mCParserWrapper.__init__\u001b[0;34m(self, src, **kwds)\u001b[0m\n\u001b[1;32m   1864\u001b[0m kwds[\u001b[38;5;124m\"\u001b[39m\u001b[38;5;124musecols\u001b[39m\u001b[38;5;124m\"\u001b[39m] \u001b[38;5;241m=\u001b[39m \u001b[38;5;28mself\u001b[39m\u001b[38;5;241m.\u001b[39musecols\n\u001b[1;32m   1866\u001b[0m \u001b[38;5;66;03m# open handles\u001b[39;00m\n\u001b[0;32m-> 1867\u001b[0m \u001b[38;5;28;43mself\u001b[39;49m\u001b[38;5;241;43m.\u001b[39;49m\u001b[43m_open_handles\u001b[49m\u001b[43m(\u001b[49m\u001b[43msrc\u001b[49m\u001b[43m,\u001b[49m\u001b[43m \u001b[49m\u001b[43mkwds\u001b[49m\u001b[43m)\u001b[49m\n\u001b[1;32m   1868\u001b[0m \u001b[38;5;28;01massert\u001b[39;00m \u001b[38;5;28mself\u001b[39m\u001b[38;5;241m.\u001b[39mhandles \u001b[38;5;129;01mis\u001b[39;00m \u001b[38;5;129;01mnot\u001b[39;00m \u001b[38;5;28;01mNone\u001b[39;00m\n\u001b[1;32m   1869\u001b[0m \u001b[38;5;28;01mfor\u001b[39;00m key \u001b[38;5;129;01min\u001b[39;00m (\u001b[38;5;124m\"\u001b[39m\u001b[38;5;124mstorage_options\u001b[39m\u001b[38;5;124m\"\u001b[39m, \u001b[38;5;124m\"\u001b[39m\u001b[38;5;124mencoding\u001b[39m\u001b[38;5;124m\"\u001b[39m, \u001b[38;5;124m\"\u001b[39m\u001b[38;5;124mmemory_map\u001b[39m\u001b[38;5;124m\"\u001b[39m, \u001b[38;5;124m\"\u001b[39m\u001b[38;5;124mcompression\u001b[39m\u001b[38;5;124m\"\u001b[39m):\n",
      "File \u001b[0;32m~/miniconda3/lib/python3.8/site-packages/pandas/io/parsers.py:1362\u001b[0m, in \u001b[0;36mParserBase._open_handles\u001b[0;34m(self, src, kwds)\u001b[0m\n\u001b[1;32m   1358\u001b[0m \u001b[38;5;28;01mdef\u001b[39;00m \u001b[38;5;21m_open_handles\u001b[39m(\u001b[38;5;28mself\u001b[39m, src: FilePathOrBuffer, kwds: Dict[\u001b[38;5;28mstr\u001b[39m, Any]) \u001b[38;5;241m-\u001b[39m\u001b[38;5;241m>\u001b[39m \u001b[38;5;28;01mNone\u001b[39;00m:\n\u001b[1;32m   1359\u001b[0m     \u001b[38;5;124;03m\"\"\"\u001b[39;00m\n\u001b[1;32m   1360\u001b[0m \u001b[38;5;124;03m    Let the readers open IOHanldes after they are done with their potential raises.\u001b[39;00m\n\u001b[1;32m   1361\u001b[0m \u001b[38;5;124;03m    \"\"\"\u001b[39;00m\n\u001b[0;32m-> 1362\u001b[0m     \u001b[38;5;28mself\u001b[39m\u001b[38;5;241m.\u001b[39mhandles \u001b[38;5;241m=\u001b[39m \u001b[43mget_handle\u001b[49m\u001b[43m(\u001b[49m\n\u001b[1;32m   1363\u001b[0m \u001b[43m        \u001b[49m\u001b[43msrc\u001b[49m\u001b[43m,\u001b[49m\n\u001b[1;32m   1364\u001b[0m \u001b[43m        \u001b[49m\u001b[38;5;124;43m\"\u001b[39;49m\u001b[38;5;124;43mr\u001b[39;49m\u001b[38;5;124;43m\"\u001b[39;49m\u001b[43m,\u001b[49m\n\u001b[1;32m   1365\u001b[0m \u001b[43m        \u001b[49m\u001b[43mencoding\u001b[49m\u001b[38;5;241;43m=\u001b[39;49m\u001b[43mkwds\u001b[49m\u001b[38;5;241;43m.\u001b[39;49m\u001b[43mget\u001b[49m\u001b[43m(\u001b[49m\u001b[38;5;124;43m\"\u001b[39;49m\u001b[38;5;124;43mencoding\u001b[39;49m\u001b[38;5;124;43m\"\u001b[39;49m\u001b[43m,\u001b[49m\u001b[43m \u001b[49m\u001b[38;5;28;43;01mNone\u001b[39;49;00m\u001b[43m)\u001b[49m\u001b[43m,\u001b[49m\n\u001b[1;32m   1366\u001b[0m \u001b[43m        \u001b[49m\u001b[43mcompression\u001b[49m\u001b[38;5;241;43m=\u001b[39;49m\u001b[43mkwds\u001b[49m\u001b[38;5;241;43m.\u001b[39;49m\u001b[43mget\u001b[49m\u001b[43m(\u001b[49m\u001b[38;5;124;43m\"\u001b[39;49m\u001b[38;5;124;43mcompression\u001b[39;49m\u001b[38;5;124;43m\"\u001b[39;49m\u001b[43m,\u001b[49m\u001b[43m \u001b[49m\u001b[38;5;28;43;01mNone\u001b[39;49;00m\u001b[43m)\u001b[49m\u001b[43m,\u001b[49m\n\u001b[1;32m   1367\u001b[0m \u001b[43m        \u001b[49m\u001b[43mmemory_map\u001b[49m\u001b[38;5;241;43m=\u001b[39;49m\u001b[43mkwds\u001b[49m\u001b[38;5;241;43m.\u001b[39;49m\u001b[43mget\u001b[49m\u001b[43m(\u001b[49m\u001b[38;5;124;43m\"\u001b[39;49m\u001b[38;5;124;43mmemory_map\u001b[39;49m\u001b[38;5;124;43m\"\u001b[39;49m\u001b[43m,\u001b[49m\u001b[43m \u001b[49m\u001b[38;5;28;43;01mFalse\u001b[39;49;00m\u001b[43m)\u001b[49m\u001b[43m,\u001b[49m\n\u001b[1;32m   1368\u001b[0m \u001b[43m        \u001b[49m\u001b[43mstorage_options\u001b[49m\u001b[38;5;241;43m=\u001b[39;49m\u001b[43mkwds\u001b[49m\u001b[38;5;241;43m.\u001b[39;49m\u001b[43mget\u001b[49m\u001b[43m(\u001b[49m\u001b[38;5;124;43m\"\u001b[39;49m\u001b[38;5;124;43mstorage_options\u001b[39;49m\u001b[38;5;124;43m\"\u001b[39;49m\u001b[43m,\u001b[49m\u001b[43m \u001b[49m\u001b[38;5;28;43;01mNone\u001b[39;49;00m\u001b[43m)\u001b[49m\u001b[43m,\u001b[49m\n\u001b[1;32m   1369\u001b[0m \u001b[43m    \u001b[49m\u001b[43m)\u001b[49m\n",
      "File \u001b[0;32m~/miniconda3/lib/python3.8/site-packages/pandas/io/common.py:642\u001b[0m, in \u001b[0;36mget_handle\u001b[0;34m(path_or_buf, mode, encoding, compression, memory_map, is_text, errors, storage_options)\u001b[0m\n\u001b[1;32m    640\u001b[0m         errors \u001b[38;5;241m=\u001b[39m \u001b[38;5;124m\"\u001b[39m\u001b[38;5;124mreplace\u001b[39m\u001b[38;5;124m\"\u001b[39m\n\u001b[1;32m    641\u001b[0m     \u001b[38;5;66;03m# Encoding\u001b[39;00m\n\u001b[0;32m--> 642\u001b[0m     handle \u001b[38;5;241m=\u001b[39m \u001b[38;5;28;43mopen\u001b[39;49m\u001b[43m(\u001b[49m\n\u001b[1;32m    643\u001b[0m \u001b[43m        \u001b[49m\u001b[43mhandle\u001b[49m\u001b[43m,\u001b[49m\n\u001b[1;32m    644\u001b[0m \u001b[43m        \u001b[49m\u001b[43mioargs\u001b[49m\u001b[38;5;241;43m.\u001b[39;49m\u001b[43mmode\u001b[49m\u001b[43m,\u001b[49m\n\u001b[1;32m    645\u001b[0m \u001b[43m        \u001b[49m\u001b[43mencoding\u001b[49m\u001b[38;5;241;43m=\u001b[39;49m\u001b[43mioargs\u001b[49m\u001b[38;5;241;43m.\u001b[39;49m\u001b[43mencoding\u001b[49m\u001b[43m,\u001b[49m\n\u001b[1;32m    646\u001b[0m \u001b[43m        \u001b[49m\u001b[43merrors\u001b[49m\u001b[38;5;241;43m=\u001b[39;49m\u001b[43merrors\u001b[49m\u001b[43m,\u001b[49m\n\u001b[1;32m    647\u001b[0m \u001b[43m        \u001b[49m\u001b[43mnewline\u001b[49m\u001b[38;5;241;43m=\u001b[39;49m\u001b[38;5;124;43m\"\u001b[39;49m\u001b[38;5;124;43m\"\u001b[39;49m\u001b[43m,\u001b[49m\n\u001b[1;32m    648\u001b[0m \u001b[43m    \u001b[49m\u001b[43m)\u001b[49m\n\u001b[1;32m    649\u001b[0m \u001b[38;5;28;01melse\u001b[39;00m:\n\u001b[1;32m    650\u001b[0m     \u001b[38;5;66;03m# Binary mode\u001b[39;00m\n\u001b[1;32m    651\u001b[0m     handle \u001b[38;5;241m=\u001b[39m \u001b[38;5;28mopen\u001b[39m(handle, ioargs\u001b[38;5;241m.\u001b[39mmode)\n",
      "\u001b[0;31mFileNotFoundError\u001b[0m: [Errno 2] No such file or directory: 'provided_data/datasets/PTN9_v3.csv'"
     ]
    }
   ],
   "source": [
    "dataset_18 = pd.read_csv(\"provided_data/datasets/PTN9_v3.csv\", parse_dates=[\"timestamp\"])\n",
    "dataset_18 = dataset_18.sort_values(by=\"timestamp\")\n",
    "dataset_18.rename(columns={\"timestamp\":\"date_rec\"}, inplace=True)\n",
    "\n",
    "sensor_df = dataset_18.set_index(\"date_rec\")\n",
    "# Drop NAs only if for a row there are only NANs\n",
    "sensor_df = sensor_df.dropna(how=\"all\")\n",
    "sensor_df = sensor_df[~sensor_df.index.duplicated(keep='first')]\n",
    "\n",
    "save_sanity_checking_dataset(\n",
    "    dataset=sensor_df,\n",
    "    dataset_tag=config.PTN9_DATA_TAG,\n",
    "    suffix=3)\n",
    "\n",
    "save_test_system_dataset(\n",
    "    dataset=sensor_df,\n",
    "    dataset_tag=config.PTN9_DATA_TAG,\n",
    "    output_dataset_name=\"ptn9v3\")\n",
    "\n",
    "convert_and_save_dataset(\n",
    "    dataset=sensor_df,\n",
    "    dataset_tag=config.PTN9_DATA_TAG,\n",
    "    output_dataset_name=config.PTN9_DATA_TAG,\n",
    "    output_dataset_name_suffix=\"3\",\n",
    "    act_on_na=True)"
   ]
  },
  {
   "cell_type": "markdown",
   "metadata": {},
   "source": [
    "# PAITON9 v4"
   ]
  },
  {
   "cell_type": "code",
   "execution_count": 3,
   "metadata": {},
   "outputs": [
    {
     "data": {
      "image/png": "[encoded data removed]",
      "text/plain": [
       "<Figure size 432x288 with 1 Axes>"
      ]
     },
     "metadata": {
      "needs_background": "light"
     },
     "output_type": "display_data"
    }
   ],
   "source": [
    "dataset_19 = pd.read_csv(\"provided_data/datasets/PTN9/Paiton9_historian_v4_1.csv\", parse_dates=[\"f_date_rec\"])\n",
    "dataset_19 = dataset_19.sort_values(by=\"f_date_rec\")\n",
    "dataset_19.rename(columns={\"f_date_rec\":\"date_rec\"}, inplace=True)\n",
    "\n",
    "split_date = '2023-09-15'\n",
    "dataset_19 = dataset_19[dataset_19['date_rec'] < split_date]\n",
    "sensor_df = dataset_19.set_index(\"date_rec\")\n",
    "# Drop NAs only if for a row there are only NANs\n",
    "sensor_df = sensor_df.dropna(how=\"all\")\n",
    "sensor_df = sensor_df[~sensor_df.index.duplicated(keep='first')]\n",
    "\n",
    "save_sanity_checking_dataset(\n",
    "    dataset=sensor_df,\n",
    "    dataset_tag=config.PTN9_DATA_TAG,\n",
    "    suffix=4)\n",
    "\n",
    "save_test_system_dataset(\n",
    "    dataset=sensor_df,\n",
    "    dataset_tag=config.PTN9_DATA_TAG,\n",
    "    output_dataset_name=\"ptn9v4\")\n",
    "\n",
    "convert_and_save_dataset(\n",
    "    dataset=sensor_df,\n",
    "    dataset_tag=config.PTN9_DATA_TAG,\n",
    "    output_dataset_name=config.PTN9_DATA_TAG,\n",
    "    output_dataset_name_suffix=\"4\",\n",
    "    act_on_na=True)"
   ]
  },
  {
   "cell_type": "code",
   "execution_count": 12,
   "metadata": {},
   "outputs": [
    {
     "data": {
      "text/plain": [
       "(14357, 64)"
      ]
     },
     "execution_count": 12,
     "metadata": {},
     "output_type": "execute_result"
    }
   ],
   "source": [
    "sensor_df.shape"
   ]
  },
  {
   "cell_type": "markdown",
   "metadata": {},
   "source": [
    "# PAITON9 v5 (train)"
   ]
  },
  {
   "cell_type": "code",
   "execution_count": 4,
   "metadata": {},
   "outputs": [],
   "source": [
    "PTN9_3 = pd.read_csv(\"prepared_datasets/datasets/PTN9/dataset_PTN9_3.csv\")\n",
    "PTN9_4 = pd.read_csv(\"prepared_datasets/datasets/PTN9/dataset_PTN9_4.csv\")\n",
    "dataset_21 = pd.concat([PTN9_3, PTN9_4], ignore_index=True)\n",
    "dataset_21.to_csv(\"prepared_datasets/datasets/PTN9/dataset_PTN9_5.csv\")"
   ]
  },
  {
   "cell_type": "markdown",
   "metadata": {},
   "source": [
    "# PAITON9 v6 (test)"
   ]
  },
  {
   "cell_type": "code",
   "execution_count": 5,
   "metadata": {},
   "outputs": [
    {
     "data": {
      "image/png": "[encoded data removed]",
      "text/plain": [
       "<Figure size 432x288 with 1 Axes>"
      ]
     },
     "metadata": {
      "needs_background": "light"
     },
     "output_type": "display_data"
    }
   ],
   "source": [
    "split_date = '2023-09-15'\n",
    "dataset_20 = pd.read_csv(\"provided_data/datasets/PTN9/Paiton9_historian_v4_1.csv\", parse_dates=[\"f_date_rec\"])\n",
    "dataset_20 = dataset_20.sort_values(by=\"f_date_rec\")\n",
    "dataset_20.rename(columns={\"f_date_rec\":\"date_rec\"}, inplace=True)\n",
    "\n",
    "dataset_20 = dataset_20[dataset_20['date_rec'] >= split_date]\n",
    "\n",
    "sensor_df = dataset_20.set_index(\"date_rec\")\n",
    "# Drop NAs only if for a row there are only NANs\n",
    "sensor_df = sensor_df.dropna(how=\"all\")\n",
    "sensor_df = sensor_df[~sensor_df.index.duplicated(keep='first')]\n",
    "\n",
    "save_sanity_checking_dataset(\n",
    "    dataset=sensor_df,\n",
    "    dataset_tag=config.PTN9_DATA_TAG,\n",
    "    suffix=6)\n",
    "\n",
    "save_test_system_dataset(\n",
    "    dataset=sensor_df,\n",
    "    dataset_tag=config.PTN9_DATA_TAG,\n",
    "    output_dataset_name=\"ptn9v6\")\n",
    "\n",
    "convert_and_save_dataset(\n",
    "    dataset=sensor_df,\n",
    "    dataset_tag=config.PTN9_DATA_TAG,\n",
    "    output_dataset_name=config.PTN9_DATA_TAG,\n",
    "    output_dataset_name_suffix=\"6_test\",\n",
    "    act_on_na=True)"
   ]
  },
  {
   "cell_type": "code",
   "execution_count": 9,
   "metadata": {},
   "outputs": [
    {
     "data": {
      "text/plain": [
       "(14357, 65)"
      ]
     },
     "execution_count": 9,
     "metadata": {},
     "output_type": "execute_result"
    }
   ],
   "source": [
    "dataset_19.shape"
   ]
  }
 ],
 "metadata": {
  "interpreter": {
   "hash": "2c2cacdd71460b678b0adf3b8e6cc46da0cf8f0fb5f5431a3c633094833cf96f"
  },
  "kernelspec": {
   "display_name": "Python 3 (ipykernel)",
   "language": "python",
   "name": "python3"
  },
  "language_info": {
   "codemirror_mode": {
    "name": "ipython",
    "version": 3
   },
   "file_extension": ".py",
   "mimetype": "text/x-python",
   "name": "python",
   "nbconvert_exporter": "python",
   "pygments_lexer": "ipython3",
   "version": "3.9.12"
  }
 },
 "nbformat": 4,
 "nbformat_minor": 2
}
